{
  "nbformat": 4,
  "nbformat_minor": 0,
  "metadata": {
    "colab": {
      "name": "10_keras_CNN_CIFAR-10_Conv3.ipynb",
      "version": "0.3.2",
      "provenance": [],
      "collapsed_sections": [],
      "include_colab_link": true
    },
    "kernelspec": {
      "name": "python3",
      "display_name": "Python 3"
    }
  },
  "cells": [
    {
      "cell_type": "markdown",
      "metadata": {
        "id": "view-in-github",
        "colab_type": "text"
      },
      "source": [
        "[View in Colaboratory](https://colab.research.google.com/github/billmlion/keras_ws/blob/master/10_keras_CNN_CIFAR_10_Conv3.ipynb)"
      ]
    },
    {
      "metadata": {
        "id": "O00ZBWRy_Y5z",
        "colab_type": "toc"
      },
      "cell_type": "markdown",
      "source": [
        ">[1.数据准备](#scrollTo=4-QZ-zjW_RKq)\n",
        "\n",
        ">[2.建立3次的卷积运算神经网络模型](#scrollTo=ssfdSBwn_tjv)\n",
        "\n",
        ">[3.训练模型](#scrollTo=WNILR89pBSiI)\n",
        "\n",
        ">[4.评估模型的准确率](#scrollTo=TOEKqyafBy8Y)\n",
        "\n"
      ]
    },
    {
      "metadata": {
        "id": "4-QZ-zjW_RKq",
        "colab_type": "text"
      },
      "cell_type": "markdown",
      "source": [
        "# 1.数据准备"
      ]
    },
    {
      "metadata": {
        "id": "p0oksvzc-7QJ",
        "colab_type": "code",
        "colab": {}
      },
      "cell_type": "code",
      "source": [
        "import numpy\n",
        "from keras.datasets import cifar10\n",
        "import numpy as np\n",
        "np.random.seed(10)"
      ],
      "execution_count": 0,
      "outputs": []
    },
    {
      "metadata": {
        "id": "UcKXrqxd_csu",
        "colab_type": "code",
        "colab": {}
      },
      "cell_type": "code",
      "source": [
        "(X_img_train, y_label_train), (X_img_test, y_label_test) = cifar10.load_data()"
      ],
      "execution_count": 0,
      "outputs": []
    },
    {
      "metadata": {
        "id": "qHin8kXq_fOp",
        "colab_type": "code",
        "colab": {
          "base_uri": "https://localhost:8080/",
          "height": 51
        },
        "outputId": "58374a35-41a0-4f0b-efd3-ab16e1d5c87b"
      },
      "cell_type": "code",
      "source": [
        "print(\"train data:\",'images:',X_img_train.shape,\" labels:\",y_label_train.shape) \n",
        "print(\"test  data:\",'images:',X_img_test.shape ,\" labels:\",y_label_test.shape) "
      ],
      "execution_count": 3,
      "outputs": [
        {
          "output_type": "stream",
          "text": [
            "train data: images: (50000, 32, 32, 3)  labels: (50000, 1)\n",
            "test  data: images: (10000, 32, 32, 3)  labels: (10000, 1)\n"
          ],
          "name": "stdout"
        }
      ]
    },
    {
      "metadata": {
        "id": "TyKTpQsz_gtz",
        "colab_type": "code",
        "colab": {}
      },
      "cell_type": "code",
      "source": [
        "X_img_train_normalize = X_img_train.astype('float32') / 255.0\n",
        "X_img_test_normalize = X_img_test.astype('float32') / 255.0"
      ],
      "execution_count": 0,
      "outputs": []
    },
    {
      "metadata": {
        "id": "45BX5srv_h5g",
        "colab_type": "code",
        "colab": {}
      },
      "cell_type": "code",
      "source": [
        "from keras.utils import np_utils\n",
        "y_label_train_OneHot = np_utils.to_categorical(y_label_train)\n",
        "y_label_test_OneHot = np_utils.to_categorical(y_label_test)"
      ],
      "execution_count": 0,
      "outputs": []
    },
    {
      "metadata": {
        "id": "31dGe_1P_jUM",
        "colab_type": "code",
        "colab": {
          "base_uri": "https://localhost:8080/",
          "height": 34
        },
        "outputId": "84980e37-bc9d-456c-e7e5-90e64ba500dc"
      },
      "cell_type": "code",
      "source": [
        "y_label_test_OneHot.shape"
      ],
      "execution_count": 6,
      "outputs": [
        {
          "output_type": "execute_result",
          "data": {
            "text/plain": [
              "(10000, 10)"
            ]
          },
          "metadata": {
            "tags": []
          },
          "execution_count": 6
        }
      ]
    },
    {
      "metadata": {
        "id": "ssfdSBwn_tjv",
        "colab_type": "text"
      },
      "cell_type": "markdown",
      "source": [
        "# 2.建立3次的卷积运算神经网络模型"
      ]
    },
    {
      "metadata": {
        "id": "DuGYPCIz-9Vu",
        "colab_type": "code",
        "colab": {}
      },
      "cell_type": "code",
      "source": [
        "from keras.models import Sequential\n",
        "from keras.layers import Dense, Dropout, Activation, Flatten\n",
        "from keras.layers import Conv2D, MaxPooling2D, ZeroPadding2D\n",
        "\n",
        "model = Sequential()"
      ],
      "execution_count": 0,
      "outputs": []
    },
    {
      "metadata": {
        "id": "W_n1ENsX_1p7",
        "colab_type": "code",
        "colab": {}
      },
      "cell_type": "code",
      "source": [
        "#卷积层1与池化层1\n",
        "\n",
        "model.add(Conv2D(filters=32,kernel_size=(3, 3),input_shape=(32, 32,3),\n",
        "                 activation='relu', padding='same'))\n",
        "model.add(Dropout(0.3))\n",
        "model.add(Conv2D(filters=32, kernel_size=(3, 3), activation='relu', padding='same'))  #增加了Conv2D层\n",
        "model.add(MaxPooling2D(pool_size=(2, 2)))"
      ],
      "execution_count": 0,
      "outputs": []
    },
    {
      "metadata": {
        "id": "Ev8xQ-dGASWF",
        "colab_type": "code",
        "colab": {}
      },
      "cell_type": "code",
      "source": [
        "#卷积层2与池化层2\n",
        "model.add(Conv2D(filters=64, kernel_size=(3, 3),\n",
        "                 activation='relu', padding='same'))\n",
        "model.add(Dropout(0.3))\n",
        "model.add(Conv2D(filters=64, kernel_size=(3, 3), activation='relu', padding='same')) #增加了Conv2D层\n",
        "model.add(MaxPooling2D(pool_size=(2, 2)))"
      ],
      "execution_count": 0,
      "outputs": []
    },
    {
      "metadata": {
        "id": "8Ugjf34NAYg4",
        "colab_type": "code",
        "colab": {}
      },
      "cell_type": "code",
      "source": [
        "#卷积层3与池化层3\n",
        "\n",
        "model.add(Conv2D(filters=128, kernel_size=(3, 3), \n",
        "                 activation='relu', padding='same'))\n",
        "model.add(Dropout(0.3))\n",
        "model.add(Conv2D(filters=128, kernel_size=(3, 3), activation='relu', padding='same')) #增加了Conv2D层\n",
        "model.add(MaxPooling2D(pool_size=(2, 2)))\n"
      ],
      "execution_count": 0,
      "outputs": []
    },
    {
      "metadata": {
        "id": "eUp_sa0jAhJ9",
        "colab_type": "code",
        "colab": {
          "base_uri": "https://localhost:8080/",
          "height": 595
        },
        "outputId": "9f8899c2-5cce-4e7a-f5f4-6d5fe1d0c5a2"
      },
      "cell_type": "code",
      "source": [
        "#建立神经网络(平坦层、隐藏层、输出层)\n",
        "model.add(Flatten())\n",
        "model.add(Dropout(0.3))\n",
        "model.add(Dense(2500, activation='relu'))\n",
        "model.add(Dropout(0.3))\n",
        "model.add(Dense(1500, activation='relu'))\n",
        "model.add(Dropout(0.3))\n",
        "model.add(Dense(10, activation='softmax'))\n",
        "\n",
        "print(model.summary())"
      ],
      "execution_count": 10,
      "outputs": [
        {
          "output_type": "stream",
          "text": [
            "_________________________________________________________________\n",
            "Layer (type)                 Output Shape              Param #   \n",
            "=================================================================\n",
            "conv2d_1 (Conv2D)            (None, 32, 32, 32)        896       \n",
            "_________________________________________________________________\n",
            "dropout_1 (Dropout)          (None, 32, 32, 32)        0         \n",
            "_________________________________________________________________\n",
            "max_pooling2d_1 (MaxPooling2 (None, 16, 16, 32)        0         \n",
            "_________________________________________________________________\n",
            "conv2d_2 (Conv2D)            (None, 16, 16, 64)        18496     \n",
            "_________________________________________________________________\n",
            "dropout_2 (Dropout)          (None, 16, 16, 64)        0         \n",
            "_________________________________________________________________\n",
            "max_pooling2d_2 (MaxPooling2 (None, 8, 8, 64)          0         \n",
            "_________________________________________________________________\n",
            "flatten_1 (Flatten)          (None, 4096)              0         \n",
            "_________________________________________________________________\n",
            "dropout_3 (Dropout)          (None, 4096)              0         \n",
            "_________________________________________________________________\n",
            "dense_1 (Dense)              (None, 2500)              10242500  \n",
            "_________________________________________________________________\n",
            "dropout_4 (Dropout)          (None, 2500)              0         \n",
            "_________________________________________________________________\n",
            "dense_2 (Dense)              (None, 1500)              3751500   \n",
            "_________________________________________________________________\n",
            "dropout_5 (Dropout)          (None, 1500)              0         \n",
            "_________________________________________________________________\n",
            "dense_3 (Dense)              (None, 10)                15010     \n",
            "=================================================================\n",
            "Total params: 14,028,402\n",
            "Trainable params: 14,028,402\n",
            "Non-trainable params: 0\n",
            "_________________________________________________________________\n",
            "None\n"
          ],
          "name": "stdout"
        }
      ]
    },
    {
      "metadata": {
        "id": "WNILR89pBSiI",
        "colab_type": "text"
      },
      "cell_type": "markdown",
      "source": [
        "# 3.训练模型"
      ]
    },
    {
      "metadata": {
        "id": "Dn5hhBsPAo4K",
        "colab_type": "code",
        "colab": {}
      },
      "cell_type": "code",
      "source": [
        "model.compile(loss='categorical_crossentropy', optimizer='adam',\n",
        "              metrics=['accuracy'])"
      ],
      "execution_count": 0,
      "outputs": []
    },
    {
      "metadata": {
        "id": "IP_PLr8uHkck",
        "colab_type": "code",
        "colab": {}
      },
      "cell_type": "code",
      "source": [
        "train_history=model.fit(X_img_train_normalize, y_label_train_OneHot,\n",
        "                        validation_split=0.2,\n",
        "                        epochs=1, batch_size=300, verbose=1)"
      ],
      "execution_count": 0,
      "outputs": []
    },
    {
      "metadata": {
        "id": "P7RV3kvgGtnp",
        "colab_type": "code",
        "colab": {}
      },
      "cell_type": "code",
      "source": [
        ""
      ],
      "execution_count": 0,
      "outputs": []
    },
    {
      "metadata": {
        "id": "TOEKqyafBy8Y",
        "colab_type": "text"
      },
      "cell_type": "markdown",
      "source": [
        "# 4.评估模型的准确率"
      ]
    },
    {
      "metadata": {
        "id": "tAmMhrsQBww4",
        "colab_type": "code",
        "colab": {}
      },
      "cell_type": "code",
      "source": [
        ""
      ],
      "execution_count": 0,
      "outputs": []
    }
  ]
}