{
  "nbformat": 4,
  "nbformat_minor": 0,
  "metadata": {
    "colab": {
      "name": "14_keras_IMDB_MLP_LSTM.ipynb",
      "version": "0.3.2",
      "provenance": [],
      "include_colab_link": true
    },
    "kernelspec": {
      "name": "python3",
      "display_name": "Python 3"
    }
  },
  "cells": [
    {
      "cell_type": "markdown",
      "metadata": {
        "id": "view-in-github",
        "colab_type": "text"
      },
      "source": [
        "[View in Colaboratory](https://colab.research.google.com/github/billmlion/keras_ws/blob/master/14_keras_IMDB_MLP_LSTM.ipynb)"
      ]
    },
    {
      "metadata": {
        "id": "snZvhiNmgAJF",
        "colab_type": "toc"
      },
      "cell_type": "markdown",
      "source": [
        ">[1.数据准备](#scrollTo=0cP5Qycmf1eC)\n",
        "\n",
        ">[2.建立模型](#scrollTo=-OLzd647gKll)\n",
        "\n",
        ">[3.训练模型](#scrollTo=aeHIF6RPgdB1)\n",
        "\n",
        ">[4.评估准确率](#scrollTo=oJ3ev0lAg30n)\n",
        "\n"
      ]
    },
    {
      "metadata": {
        "id": "0cP5Qycmf1eC",
        "colab_type": "text"
      },
      "cell_type": "markdown",
      "source": [
        "# 1.数据准备"
      ]
    },
    {
      "metadata": {
        "id": "CH5Wv2PlfymA",
        "colab_type": "code",
        "colab": {
          "base_uri": "https://localhost:8080/",
          "height": 68
        },
        "outputId": "550509a8-7a46-4c8a-c16f-d22418a7bf47"
      },
      "cell_type": "code",
      "source": [
        "import urllib.request\n",
        "import os\n",
        "import tarfile\n",
        "\n",
        "url=\"http://ai.stanford.edu/~amaas/data/sentiment/aclImdb_v1.tar.gz\"\n",
        "filepath=\"aclImdb_v1.tar.gz\"\n",
        "\n",
        "if not os.path.isfile(filepath):\n",
        "    result=urllib.request.urlretrieve(url,filepath)\n",
        "    print('downloaded:',result)\n",
        "    \n",
        "if not os.path.exists(\"aclImdb\"):\n",
        "    tfile = tarfile.open(\"aclImdb_v1.tar.gz\", 'r:gz')\n",
        "    result=tfile.extractall('')\n",
        "    \n",
        "    \n",
        "from keras.datasets import imdb\n",
        "from keras.preprocessing import sequence\n",
        "from keras.preprocessing.text import Tokenizer\n",
        "import numpy as np\n",
        "np.random.seed(10)\n",
        "\n",
        "\n",
        "import re\n",
        "re_tag = re.compile(r'<[^>]+>')\n",
        "\n",
        "def rm_tags(text):\n",
        "    return re_tag.sub('', text)\n",
        "  \n",
        "  \n",
        "  \n",
        "import os\n",
        "def read_files(filetype):\n",
        "    path = \"aclImdb/\"\n",
        "    file_list=[]\n",
        "\n",
        "    positive_path=path + filetype+\"/pos/\"\n",
        "    for f in os.listdir(positive_path):\n",
        "        file_list+=[positive_path+f]\n",
        "    \n",
        "    negative_path=path + filetype+\"/neg/\"\n",
        "    for f in os.listdir(negative_path):\n",
        "        file_list+=[negative_path+f]\n",
        "        \n",
        "    print('read',filetype, 'files:',len(file_list))\n",
        "       \n",
        "    all_labels = ([1] * 12500 + [0] * 12500) \n",
        "    \n",
        "    all_texts  = []\n",
        "    \n",
        "    for fi in file_list:\n",
        "        with open(fi,encoding='utf8') as file_input:\n",
        "            all_texts += [rm_tags(\" \".join(file_input.readlines()))]\n",
        "            \n",
        "    return all_labels,all_texts\n",
        "\n",
        "  \n",
        "y_train,train_text=read_files(\"train\")\n",
        "\n",
        "y_test,test_text=read_files(\"test\")\n",
        "\n",
        "#先读取所有文章建立字典，限制字典的数量为nb_words=3800\n",
        "\n",
        "token = Tokenizer(num_words=3800)\n",
        "token.fit_on_texts(train_text)\n",
        "\n",
        "\n",
        "x_train_seq = token.texts_to_sequences(train_text)\n",
        "x_test_seq  = token.texts_to_sequences(test_text)\n",
        "\n",
        "#截长补短，让所有影评所产生的数字序列长度一样\n",
        "x_train = sequence.pad_sequences(x_train_seq, maxlen=380)\n",
        "x_test  = sequence.pad_sequences(x_test_seq,  maxlen=380)"
      ],
      "execution_count": 1,
      "outputs": [
        {
          "output_type": "stream",
          "text": [
            "Using TensorFlow backend.\n"
          ],
          "name": "stderr"
        },
        {
          "output_type": "stream",
          "text": [
            "read train files: 25000\n",
            "read test files: 25000\n"
          ],
          "name": "stdout"
        }
      ]
    },
    {
      "metadata": {
        "id": "-OLzd647gKll",
        "colab_type": "text"
      },
      "cell_type": "markdown",
      "source": [
        "# 2.建立模型"
      ]
    },
    {
      "metadata": {
        "id": "PgQSNcUef0XZ",
        "colab_type": "code",
        "colab": {
          "base_uri": "https://localhost:8080/",
          "height": 340
        },
        "outputId": "c76ed00b-9554-4632-be0e-e37def74319b"
      },
      "cell_type": "code",
      "source": [
        "from keras.models import Sequential\n",
        "from keras.layers.core import Dense, Dropout, Activation,Flatten\n",
        "from keras.layers.embeddings import Embedding\n",
        "from keras.layers.recurrent import LSTM\n",
        "\n",
        "\n",
        "model = Sequential()\n",
        "\n",
        "model.add(Embedding(output_dim=32,\n",
        "                    input_dim=3800, \n",
        "                    input_length=380))\n",
        "model.add(Dropout(0.2))\n",
        "\n",
        "model.add(LSTM(32))\n",
        "\n",
        "model.add(Dense(units=256,\n",
        "                activation='relu' ))\n",
        "model.add(Dropout(0.2))\n",
        "\n",
        "model.add(Dense(units=1,\n",
        "                activation='sigmoid' ))\n",
        "\n",
        "model.summary()"
      ],
      "execution_count": 2,
      "outputs": [
        {
          "output_type": "stream",
          "text": [
            "_________________________________________________________________\n",
            "Layer (type)                 Output Shape              Param #   \n",
            "=================================================================\n",
            "embedding_1 (Embedding)      (None, 380, 32)           121600    \n",
            "_________________________________________________________________\n",
            "dropout_1 (Dropout)          (None, 380, 32)           0         \n",
            "_________________________________________________________________\n",
            "lstm_1 (LSTM)                (None, 32)                8320      \n",
            "_________________________________________________________________\n",
            "dense_1 (Dense)              (None, 256)               8448      \n",
            "_________________________________________________________________\n",
            "dropout_2 (Dropout)          (None, 256)               0         \n",
            "_________________________________________________________________\n",
            "dense_2 (Dense)              (None, 1)                 257       \n",
            "=================================================================\n",
            "Total params: 138,625\n",
            "Trainable params: 138,625\n",
            "Non-trainable params: 0\n",
            "_________________________________________________________________\n"
          ],
          "name": "stdout"
        }
      ]
    },
    {
      "metadata": {
        "id": "j7FDUJMWgXFQ",
        "colab_type": "code",
        "colab": {}
      },
      "cell_type": "code",
      "source": [
        ""
      ],
      "execution_count": 0,
      "outputs": []
    },
    {
      "metadata": {
        "id": "aeHIF6RPgdB1",
        "colab_type": "text"
      },
      "cell_type": "markdown",
      "source": [
        "# 3.训练模型"
      ]
    },
    {
      "metadata": {
        "id": "H6Tb6TqWgM3D",
        "colab_type": "code",
        "colab": {
          "base_uri": "https://localhost:8080/",
          "height": 374
        },
        "outputId": "d2cf237b-e85a-4aec-a22f-f05c1636a75d"
      },
      "cell_type": "code",
      "source": [
        "model.compile(loss='binary_crossentropy', \n",
        "              #optimizer='rmsprop', \n",
        "              optimizer='adam', \n",
        "              metrics=['accuracy'])\n",
        "\n",
        "train_history =model.fit(x_train, y_train,batch_size=100, \n",
        "                         epochs=10,verbose=2,\n",
        "                         validation_split=0.2)"
      ],
      "execution_count": 3,
      "outputs": [
        {
          "output_type": "stream",
          "text": [
            "Train on 20000 samples, validate on 5000 samples\n",
            "Epoch 1/10\n",
            " - 70s - loss: 0.4776 - acc: 0.7607 - val_loss: 0.4100 - val_acc: 0.8326\n",
            "Epoch 2/10\n",
            " - 69s - loss: 0.2627 - acc: 0.8946 - val_loss: 0.3216 - val_acc: 0.8614\n",
            "Epoch 3/10\n",
            " - 68s - loss: 0.2294 - acc: 0.9112 - val_loss: 0.5306 - val_acc: 0.7826\n",
            "Epoch 4/10\n",
            " - 69s - loss: 0.1967 - acc: 0.9250 - val_loss: 0.4625 - val_acc: 0.8186\n",
            "Epoch 5/10\n",
            " - 69s - loss: 0.1878 - acc: 0.9289 - val_loss: 0.4769 - val_acc: 0.8090\n",
            "Epoch 6/10\n",
            " - 69s - loss: 0.1802 - acc: 0.9321 - val_loss: 0.2733 - val_acc: 0.8966\n",
            "Epoch 7/10\n",
            " - 68s - loss: 0.1585 - acc: 0.9397 - val_loss: 0.4606 - val_acc: 0.8338\n",
            "Epoch 8/10\n",
            " - 69s - loss: 0.1348 - acc: 0.9514 - val_loss: 0.5195 - val_acc: 0.8300\n",
            "Epoch 9/10\n",
            " - 69s - loss: 0.1244 - acc: 0.9558 - val_loss: 0.6542 - val_acc: 0.8036\n",
            "Epoch 10/10\n",
            " - 69s - loss: 0.1120 - acc: 0.9598 - val_loss: 0.6959 - val_acc: 0.7814\n"
          ],
          "name": "stdout"
        }
      ]
    },
    {
      "metadata": {
        "id": "GW7yexcogoFH",
        "colab_type": "code",
        "colab": {
          "base_uri": "https://localhost:8080/",
          "height": 34
        },
        "outputId": "7cc0877b-f7e2-48c9-f89b-5682ab4b8933"
      },
      "cell_type": "code",
      "source": [
        "%pylab inline\n",
        "import matplotlib.pyplot as plt\n",
        "def show_train_history(train_history,train,validation):\n",
        "    plt.plot(train_history.history[train])\n",
        "    plt.plot(train_history.history[validation])\n",
        "    plt.title('Train History')\n",
        "    plt.ylabel(train)\n",
        "    plt.xlabel('Epoch')\n",
        "    plt.legend(['train', 'validation'], loc='upper left')\n",
        "    plt.show()\n",
        "    "
      ],
      "execution_count": 4,
      "outputs": [
        {
          "output_type": "stream",
          "text": [
            "Populating the interactive namespace from numpy and matplotlib\n"
          ],
          "name": "stdout"
        }
      ]
    },
    {
      "metadata": {
        "id": "DBNHtRj9jOww",
        "colab_type": "code",
        "colab": {}
      },
      "cell_type": "code",
      "source": [
        ""
      ],
      "execution_count": 0,
      "outputs": []
    },
    {
      "metadata": {
        "id": "AJ_osgv7gv4k",
        "colab_type": "code",
        "colab": {
          "base_uri": "https://localhost:8080/",
          "height": 294
        },
        "outputId": "96409210-50d0-4b35-e449-3998d0222ff3"
      },
      "cell_type": "code",
      "source": [
        "show_train_history(train_history,'acc','val_acc')"
      ],
      "execution_count": 5,
      "outputs": [
        {
          "output_type": "display_data",
          "data": {
            "image/png": "[encoded data removed]",
            "text/plain": [
              "<matplotlib.figure.Figure at 0x7ff2a09fbf60>"
            ]
          },
          "metadata": {
            "tags": []
          }
        }
      ]
    },
    {
      "metadata": {
        "id": "A6DM8ONpgv84",
        "colab_type": "code",
        "colab": {
          "base_uri": "https://localhost:8080/",
          "height": 294
        },
        "outputId": "c7624f8d-bc59-4de2-e68c-47b8a572693a"
      },
      "cell_type": "code",
      "source": [
        "show_train_history(train_history,'loss','val_loss')"
      ],
      "execution_count": 6,
      "outputs": [
        {
          "output_type": "display_data",
          "data": {
            "image/png": "[encoded data removed]",
            "text/plain": [
              "<matplotlib.figure.Figure at 0x7ff29b593400>"
            ]
          },
          "metadata": {
            "tags": []
          }
        }
      ]
    },
    {
      "metadata": {
        "id": "oJ3ev0lAg30n",
        "colab_type": "text"
      },
      "cell_type": "markdown",
      "source": [
        "# 4.评估准确率"
      ]
    },
    {
      "metadata": {
        "id": "_T3uodehg1lo",
        "colab_type": "code",
        "colab": {
          "base_uri": "https://localhost:8080/",
          "height": 51
        },
        "outputId": "91d3d0db-bf8c-4a54-c860-1e3b82f15104"
      },
      "cell_type": "code",
      "source": [
        "scores = model.evaluate(x_test, y_test, verbose=1)\n",
        "scores[1]"
      ],
      "execution_count": 7,
      "outputs": [
        {
          "output_type": "stream",
          "text": [
            "25000/25000 [==============================] - 28s 1ms/step\n"
          ],
          "name": "stdout"
        },
        {
          "output_type": "execute_result",
          "data": {
            "text/plain": [
              "0.84888"
            ]
          },
          "metadata": {
            "tags": []
          },
          "execution_count": 7
        }
      ]
    }
  ]
}