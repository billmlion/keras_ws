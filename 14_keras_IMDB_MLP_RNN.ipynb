{
  "nbformat": 4,
  "nbformat_minor": 0,
  "metadata": {
    "colab": {
      "name": "14_keras_IMDB_MLP_RNN.ipynb",
      "version": "0.3.2",
      "provenance": [],
      "collapsed_sections": [],
      "include_colab_link": true
    },
    "kernelspec": {
      "name": "python3",
      "display_name": "Python 3"
    }
  },
  "cells": [
    {
      "cell_type": "markdown",
      "metadata": {
        "id": "view-in-github",
        "colab_type": "text"
      },
      "source": [
        "[View in Colaboratory](https://colab.research.google.com/github/billmlion/keras_ws/blob/master/14_keras_IMDB_MLP_RNN.ipynb)"
      ]
    },
    {
      "metadata": {
        "id": "xkN7ZhGQX7FE",
        "colab_type": "toc"
      },
      "cell_type": "markdown",
      "source": [
        ">[1.数据准备](#scrollTo=YDESlefrXyfd)\n",
        "\n",
        ">[2.建立模型](#scrollTo=jUFdKIuqYAID)\n",
        "\n",
        ">[3.训练模型](#scrollTo=OkbAT5b6Yuhu)\n",
        "\n",
        ">[4.评估模型](#scrollTo=mSL_tn4cfnEy)\n",
        "\n"
      ]
    },
    {
      "metadata": {
        "id": "YDESlefrXyfd",
        "colab_type": "text"
      },
      "cell_type": "markdown",
      "source": [
        "# 1.数据准备"
      ]
    },
    {
      "metadata": {
        "id": "PAUi3vaSXQuF",
        "colab_type": "code",
        "colab": {
          "base_uri": "https://localhost:8080/",
          "height": 51
        },
        "outputId": "177336c0-992e-4dfd-e366-fa73be9a596f"
      },
      "cell_type": "code",
      "source": [
        "import urllib.request\n",
        "import os\n",
        "import tarfile\n",
        "\n",
        "url=\"http://ai.stanford.edu/~amaas/data/sentiment/aclImdb_v1.tar.gz\"\n",
        "filepath=\"aclImdb_v1.tar.gz\"\n",
        "\n",
        "if not os.path.isfile(filepath):\n",
        "    result=urllib.request.urlretrieve(url,filepath)\n",
        "    print('downloaded:',result)\n",
        "    \n",
        "if not os.path.exists(\"aclImdb\"):\n",
        "    tfile = tarfile.open(\"aclImdb_v1.tar.gz\", 'r:gz')\n",
        "    result=tfile.extractall('')\n",
        "    \n",
        "    \n",
        "from keras.datasets import imdb\n",
        "from keras.preprocessing import sequence\n",
        "from keras.preprocessing.text import Tokenizer\n",
        "import numpy as np\n",
        "np.random.seed(10)\n",
        "\n",
        "\n",
        "import re\n",
        "re_tag = re.compile(r'<[^>]+>')\n",
        "\n",
        "def rm_tags(text):\n",
        "    return re_tag.sub('', text)\n",
        "  \n",
        "  \n",
        "  \n",
        "import os\n",
        "def read_files(filetype):\n",
        "    path = \"aclImdb/\"\n",
        "    file_list=[]\n",
        "\n",
        "    positive_path=path + filetype+\"/pos/\"\n",
        "    for f in os.listdir(positive_path):\n",
        "        file_list+=[positive_path+f]\n",
        "    \n",
        "    negative_path=path + filetype+\"/neg/\"\n",
        "    for f in os.listdir(negative_path):\n",
        "        file_list+=[negative_path+f]\n",
        "        \n",
        "    print('read',filetype, 'files:',len(file_list))\n",
        "       \n",
        "    all_labels = ([1] * 12500 + [0] * 12500) \n",
        "    \n",
        "    all_texts  = []\n",
        "    \n",
        "    for fi in file_list:\n",
        "        with open(fi,encoding='utf8') as file_input:\n",
        "            all_texts += [rm_tags(\" \".join(file_input.readlines()))]\n",
        "            \n",
        "    return all_labels,all_texts\n",
        "\n",
        "  \n",
        "y_train,train_text=read_files(\"train\")\n",
        "\n",
        "y_test,test_text=read_files(\"test\")\n",
        "\n",
        "#先读取所有文章建立字典，限制字典的数量为nb_words=3800\n",
        "\n",
        "token = Tokenizer(num_words=3800)\n",
        "token.fit_on_texts(train_text)\n",
        "\n",
        "\n",
        "x_train_seq = token.texts_to_sequences(train_text)\n",
        "x_test_seq  = token.texts_to_sequences(test_text)\n",
        "\n",
        "#截长补短，让所有影评所产生的数字序列长度一样\n",
        "x_train = sequence.pad_sequences(x_train_seq, maxlen=380)\n",
        "x_test  = sequence.pad_sequences(x_test_seq,  maxlen=380)"
      ],
      "execution_count": 4,
      "outputs": [
        {
          "output_type": "stream",
          "text": [
            "read train files: 25000\n",
            "read test files: 25000\n"
          ],
          "name": "stdout"
        }
      ]
    },
    {
      "metadata": {
        "id": "jUFdKIuqYAID",
        "colab_type": "text"
      },
      "cell_type": "markdown",
      "source": [
        "# 2.建立模型"
      ]
    },
    {
      "metadata": {
        "id": "aq8Xy9hLXuIu",
        "colab_type": "code",
        "colab": {
          "base_uri": "https://localhost:8080/",
          "height": 340
        },
        "outputId": "3d94b7d7-e809-439d-ed53-43a7d86e6511"
      },
      "cell_type": "code",
      "source": [
        "from keras.models import Sequential\n",
        "from keras.layers.core import Dense, Dropout, Activation\n",
        "from keras.layers.embeddings import Embedding\n",
        "from keras.layers.recurrent import SimpleRNN\n",
        "\n",
        "\n",
        "model = Sequential()\n",
        "\n",
        "\n",
        "\n",
        "model.add(Embedding(output_dim=32,\n",
        "                    input_dim=3800, \n",
        "                    input_length=380))\n",
        "model.add(Dropout(0.35))\n",
        "\n",
        "model.add(SimpleRNN(units=16))\n",
        "\n",
        "model.add(Dense(units=256,activation='relu' ))\n",
        "model.add(Dropout(0.35))\n",
        "\n",
        "model.add(Dense(units=1,activation='sigmoid' ))\n",
        "\n",
        "model.summary()"
      ],
      "execution_count": 5,
      "outputs": [
        {
          "output_type": "stream",
          "text": [
            "_________________________________________________________________\n",
            "Layer (type)                 Output Shape              Param #   \n",
            "=================================================================\n",
            "embedding_1 (Embedding)      (None, 380, 32)           121600    \n",
            "_________________________________________________________________\n",
            "dropout_1 (Dropout)          (None, 380, 32)           0         \n",
            "_________________________________________________________________\n",
            "simple_rnn_1 (SimpleRNN)     (None, 16)                784       \n",
            "_________________________________________________________________\n",
            "dense_1 (Dense)              (None, 256)               4352      \n",
            "_________________________________________________________________\n",
            "dropout_2 (Dropout)          (None, 256)               0         \n",
            "_________________________________________________________________\n",
            "dense_2 (Dense)              (None, 1)                 257       \n",
            "=================================================================\n",
            "Total params: 126,993\n",
            "Trainable params: 126,993\n",
            "Non-trainable params: 0\n",
            "_________________________________________________________________\n"
          ],
          "name": "stdout"
        }
      ]
    },
    {
      "metadata": {
        "id": "OkbAT5b6Yuhu",
        "colab_type": "text"
      },
      "cell_type": "markdown",
      "source": [
        "# 3.训练模型"
      ]
    },
    {
      "metadata": {
        "id": "oIubEmkMYzSJ",
        "colab_type": "code",
        "colab": {
          "base_uri": "https://localhost:8080/",
          "height": 374
        },
        "outputId": "681baf3c-4742-4174-c9ca-e3a239a712da"
      },
      "cell_type": "code",
      "source": [
        "model.compile(loss='binary_crossentropy', \n",
        "              optimizer='adam', \n",
        "              metrics=['accuracy'])\n",
        "\n",
        "train_history =model.fit(x_train, y_train,batch_size=100, \n",
        "                         epochs=10,verbose=2,\n",
        "                         validation_split=0.2)"
      ],
      "execution_count": 6,
      "outputs": [
        {
          "output_type": "stream",
          "text": [
            "Train on 20000 samples, validate on 5000 samples\n",
            "Epoch 1/10\n",
            " - 23s - loss: 0.5242 - acc: 0.7358 - val_loss: 0.5150 - val_acc: 0.7966\n",
            "Epoch 2/10\n",
            " - 23s - loss: 0.3212 - acc: 0.8672 - val_loss: 0.5052 - val_acc: 0.7672\n",
            "Epoch 3/10\n",
            " - 23s - loss: 0.2874 - acc: 0.8858 - val_loss: 0.6058 - val_acc: 0.7126\n",
            "Epoch 4/10\n",
            " - 23s - loss: 0.2510 - acc: 0.8998 - val_loss: 0.5657 - val_acc: 0.7212\n",
            "Epoch 5/10\n",
            " - 23s - loss: 0.2217 - acc: 0.9134 - val_loss: 0.8797 - val_acc: 0.6778\n",
            "Epoch 6/10\n",
            " - 23s - loss: 0.2044 - acc: 0.9219 - val_loss: 0.6852 - val_acc: 0.7740\n",
            "Epoch 7/10\n",
            " - 23s - loss: 0.1750 - acc: 0.9353 - val_loss: 0.8827 - val_acc: 0.7570\n",
            "Epoch 8/10\n",
            " - 23s - loss: 0.1502 - acc: 0.9433 - val_loss: 0.6062 - val_acc: 0.8140\n",
            "Epoch 9/10\n",
            " - 23s - loss: 0.1479 - acc: 0.9456 - val_loss: 0.6770 - val_acc: 0.8006\n",
            "Epoch 10/10\n",
            " - 23s - loss: 0.1223 - acc: 0.9543 - val_loss: 0.8388 - val_acc: 0.7950\n"
          ],
          "name": "stdout"
        }
      ]
    },
    {
      "metadata": {
        "id": "am-7eqOPfYnL",
        "colab_type": "code",
        "colab": {}
      },
      "cell_type": "code",
      "source": [
        "import matplotlib.pyplot as plt\n",
        "def show_train_history(train_history,train,validation):\n",
        "    plt.plot(train_history.history[train])\n",
        "    plt.plot(train_history.history[validation])\n",
        "    plt.title('Train History')\n",
        "    plt.ylabel(train)\n",
        "    plt.xlabel('Epoch')\n",
        "    plt.legend(['train', 'validation'], loc='upper left')\n",
        "    plt.show()"
      ],
      "execution_count": 0,
      "outputs": []
    },
    {
      "metadata": {
        "id": "tZw7JRGcfbKd",
        "colab_type": "code",
        "colab": {
          "base_uri": "https://localhost:8080/",
          "height": 376
        },
        "outputId": "9d52e81f-6bb2-47d9-dae9-3b420abeb377"
      },
      "cell_type": "code",
      "source": [
        "show_train_history(train_history,'acc','val_acc')"
      ],
      "execution_count": 8,
      "outputs": [
        {
          "output_type": "display_data",
          "data": {
            "image/png": "[encoded data removed]",
            "text/plain": [
              "<matplotlib.figure.Figure at 0x7f337e833860>"
            ]
          },
          "metadata": {
            "tags": []
          }
        }
      ]
    },
    {
      "metadata": {
        "id": "gSXSVjOUffJQ",
        "colab_type": "code",
        "colab": {
          "base_uri": "https://localhost:8080/",
          "height": 376
        },
        "outputId": "75e04689-a4c7-41ee-aba1-56b5f8ae99ab"
      },
      "cell_type": "code",
      "source": [
        "show_train_history(train_history,'loss','val_loss')"
      ],
      "execution_count": 9,
      "outputs": [
        {
          "output_type": "display_data",
          "data": {
            "image/png": "[encoded data removed]",
            "text/plain": [
              "<matplotlib.figure.Figure at 0x7f337e8c18d0>"
            ]
          },
          "metadata": {
            "tags": []
          }
        }
      ]
    },
    {
      "metadata": {
        "id": "WaEoIlKjfgih",
        "colab_type": "code",
        "colab": {}
      },
      "cell_type": "code",
      "source": [
        ""
      ],
      "execution_count": 0,
      "outputs": []
    },
    {
      "metadata": {
        "id": "mSL_tn4cfnEy",
        "colab_type": "text"
      },
      "cell_type": "markdown",
      "source": [
        "# 4.评估模型"
      ]
    },
    {
      "metadata": {
        "id": "weCUnkDcfqX9",
        "colab_type": "code",
        "colab": {
          "base_uri": "https://localhost:8080/",
          "height": 51
        },
        "outputId": "18250ef5-3f09-4666-f16b-36ee5e77a52f"
      },
      "cell_type": "code",
      "source": [
        "scores = model.evaluate(x_test, y_test, verbose=1)\n",
        "scores[1]"
      ],
      "execution_count": 10,
      "outputs": [
        {
          "output_type": "stream",
          "text": [
            "25000/25000 [==============================] - 15s 592us/step\n"
          ],
          "name": "stdout"
        },
        {
          "output_type": "execute_result",
          "data": {
            "text/plain": [
              "0.85072"
            ]
          },
          "metadata": {
            "tags": []
          },
          "execution_count": 10
        }
      ]
    },
    {
      "metadata": {
        "id": "48mF14WLfq0n",
        "colab_type": "code",
        "colab": {}
      },
      "cell_type": "code",
      "source": [
        ""
      ],
      "execution_count": 0,
      "outputs": []
    }
  ]
}