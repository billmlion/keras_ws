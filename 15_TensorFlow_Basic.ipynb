{
  "nbformat": 4,
  "nbformat_minor": 0,
  "metadata": {
    "colab": {
      "name": "15_TensorFlow_Basic.ipynb",
      "version": "0.3.2",
      "provenance": [],
      "collapsed_sections": [],
      "include_colab_link": true
    },
    "kernelspec": {
      "name": "python3",
      "display_name": "Python 3"
    }
  },
  "cells": [
    {
      "cell_type": "markdown",
      "metadata": {
        "id": "view-in-github",
        "colab_type": "text"
      },
      "source": [
        "[View in Colaboratory](https://colab.research.google.com/github/billmlion/keras_ws/blob/master/15_TensorFlow_Basic.ipynb)"
      ]
    },
    {
      "metadata": {
        "id": "SW-zG1riDr-z",
        "colab_type": "toc"
      },
      "cell_type": "markdown",
      "source": [
        ">[1.建立Computational Graph](#updateTitle=true&folderId=1yY5n-DorvxTG5qnvKJQZLIx43gJuaiyt&scrollTo=F26sHWZJBdps)\n",
        "\n",
        ">[2.建立Session执行Computational Graph](#updateTitle=true&folderId=1yY5n-DorvxTG5qnvKJQZLIx43gJuaiyt&scrollTo=5hp9uupxCU9Y)\n",
        "\n",
        ">[with 后面建立命令tf.Session(), as关键词后面是Session的变量sess](#updateTitle=true&folderId=1yY5n-DorvxTG5qnvKJQZLIx43gJuaiyt&scrollTo=oQ-q0OKsDKPX)\n",
        "\n",
        ">[在with程序块中可使用sess变量与设备沟通，离开with程序块自动关闭Session](#updateTitle=true&folderId=1yY5n-DorvxTG5qnvKJQZLIx43gJuaiyt&scrollTo=oQ-q0OKsDKPX)\n",
        "\n"
      ]
    },
    {
      "metadata": {
        "id": "F26sHWZJBdps",
        "colab_type": "text"
      },
      "cell_type": "markdown",
      "source": [
        "# 1.建立Computational Graph"
      ]
    },
    {
      "metadata": {
        "id": "tQS6LthsBgnm",
        "colab_type": "code",
        "colab": {}
      },
      "cell_type": "code",
      "source": [
        "import tensorflow as tf"
      ],
      "execution_count": 0,
      "outputs": []
    },
    {
      "metadata": {
        "id": "NBoQ7R_xBixI",
        "colab_type": "code",
        "colab": {}
      },
      "cell_type": "code",
      "source": [
        "ts_c = tf.constant(2, name='ts_c')"
      ],
      "execution_count": 0,
      "outputs": []
    },
    {
      "metadata": {
        "id": "qVvoC09hBtdE",
        "colab_type": "code",
        "colab": {
          "base_uri": "https://localhost:8080/",
          "height": 34
        },
        "outputId": "a163394a-7f31-41bb-9064-ca38672edeef"
      },
      "cell_type": "code",
      "source": [
        "ts_c"
      ],
      "execution_count": 0,
      "outputs": [
        {
          "output_type": "execute_result",
          "data": {
            "text/plain": [
              "<tf.Tensor 'ts_c:0' shape=() dtype=int32>"
            ]
          },
          "metadata": {
            "tags": []
          },
          "execution_count": 3
        }
      ]
    },
    {
      "metadata": {
        "id": "_OGAF4rPBwQ1",
        "colab_type": "code",
        "colab": {}
      },
      "cell_type": "code",
      "source": [
        "ts_x = tf.Variable(ts_c + 5, name='ts_x')"
      ],
      "execution_count": 0,
      "outputs": []
    },
    {
      "metadata": {
        "id": "WvSfBIxJCEd2",
        "colab_type": "code",
        "colab": {
          "base_uri": "https://localhost:8080/",
          "height": 34
        },
        "outputId": "2697ba35-6ed6-4348-8a03-e73e23b0c0a4"
      },
      "cell_type": "code",
      "source": [
        "ts_x"
      ],
      "execution_count": 0,
      "outputs": [
        {
          "output_type": "execute_result",
          "data": {
            "text/plain": [
              "<tf.Variable 'ts_x:0' shape=() dtype=int32_ref>"
            ]
          },
          "metadata": {
            "tags": []
          },
          "execution_count": 7
        }
      ]
    },
    {
      "metadata": {
        "id": "go8Aad4dCIa-",
        "colab_type": "code",
        "colab": {}
      },
      "cell_type": "code",
      "source": [
        ""
      ],
      "execution_count": 0,
      "outputs": []
    },
    {
      "metadata": {
        "id": "5hp9uupxCU9Y",
        "colab_type": "text"
      },
      "cell_type": "markdown",
      "source": [
        "# 2.建立Session执行Computational Graph"
      ]
    },
    {
      "metadata": {
        "id": "3nc6TDuwCXbS",
        "colab_type": "code",
        "colab": {}
      },
      "cell_type": "code",
      "source": [
        "sess=tf.Session()"
      ],
      "execution_count": 0,
      "outputs": []
    },
    {
      "metadata": {
        "id": "PuSgdTSOCBJC",
        "colab_type": "code",
        "colab": {}
      },
      "cell_type": "code",
      "source": [
        "init = tf.global_variables_initializer()\n",
        "sess.run(init)"
      ],
      "execution_count": 0,
      "outputs": []
    },
    {
      "metadata": {
        "id": "lVL7x48JCsI0",
        "colab_type": "code",
        "colab": {
          "base_uri": "https://localhost:8080/",
          "height": 34
        },
        "outputId": "6c6acf66-94ad-48c5-c6c5-1fe83feb2952"
      },
      "cell_type": "code",
      "source": [
        "print('ts_c=', sess.run(ts_c))"
      ],
      "execution_count": 0,
      "outputs": [
        {
          "output_type": "stream",
          "text": [
            "ts_c= 2\n"
          ],
          "name": "stdout"
        }
      ]
    },
    {
      "metadata": {
        "id": "xxmjgBbQApSI",
        "colab_type": "code",
        "colab": {
          "base_uri": "https://localhost:8080/",
          "height": 34
        },
        "outputId": "346179c2-9227-4a3f-dc39-2aef4bce0256"
      },
      "cell_type": "code",
      "source": [
        "print('ts_x=', sess.run(ts_x))"
      ],
      "execution_count": 0,
      "outputs": [
        {
          "output_type": "stream",
          "text": [
            "ts_x= 7\n"
          ],
          "name": "stdout"
        }
      ]
    },
    {
      "metadata": {
        "id": "Wlcp2qbzC5ZV",
        "colab_type": "code",
        "colab": {}
      },
      "cell_type": "code",
      "source": [
        "sess.close()"
      ],
      "execution_count": 0,
      "outputs": []
    },
    {
      "metadata": {
        "id": "dIvXwRdFDCNC",
        "colab_type": "code",
        "colab": {}
      },
      "cell_type": "code",
      "source": [
        ""
      ],
      "execution_count": 0,
      "outputs": []
    },
    {
      "metadata": {
        "id": "oQ-q0OKsDKPX",
        "colab_type": "text"
      },
      "cell_type": "markdown",
      "source": [
        "**> with 后面建立命令tf.Session(), as关键词后面是Session的变量sess**\n",
        "\n",
        "\n",
        "***> 在with程序块中可使用sess变量与设备沟通，离开with程序块自动关闭Session***\n",
        "\n",
        "---\n",
        "\n",
        "\n",
        "\n",
        "\n",
        "     "
      ]
    },
    {
      "metadata": {
        "id": "_7kUE1EVENg_",
        "colab_type": "code",
        "colab": {
          "base_uri": "https://localhost:8080/",
          "height": 51
        },
        "outputId": "4016b0fa-e600-4a10-e99f-eaa0e0fff9fa"
      },
      "cell_type": "code",
      "source": [
        "a = tf.constant(2, name='a')\n",
        "x = tf.Variable(a+5, name='x')\n",
        "with tf.Session() as sess:\n",
        "  init = tf.global_variables_initializer()\n",
        "  sess.run(init)\n",
        "  print('a=', sess.run(a))\n",
        "  print('x=', sess.run(x))"
      ],
      "execution_count": 0,
      "outputs": [
        {
          "output_type": "stream",
          "text": [
            "a= 2\n",
            "x= 7\n"
          ],
          "name": "stdout"
        }
      ]
    },
    {
      "metadata": {
        "id": "lPrsrrAfIPi1",
        "colab_type": "code",
        "colab": {}
      },
      "cell_type": "code",
      "source": [
        "width = tf.placeholder('int32', name='width')\n",
        "height = tf.placeholder('int32', name='height')\n",
        "area = tf.multiply(width,height, name ='area')"
      ],
      "execution_count": 0,
      "outputs": []
    },
    {
      "metadata": {
        "id": "3ql8JCURI3xz",
        "colab_type": "code",
        "colab": {
          "base_uri": "https://localhost:8080/",
          "height": 34
        },
        "outputId": "d4b14b3c-6fd4-42e6-96ce-41b81bcd07b8"
      },
      "cell_type": "code",
      "source": [
        "with tf.Session() as sess:\n",
        "  init = tf.global_variables_initializer()\n",
        "  sess.run(init)\n",
        "  print('area=', sess.run(area,feed_dict={width: 6, height: 8}))"
      ],
      "execution_count": 0,
      "outputs": [
        {
          "output_type": "stream",
          "text": [
            "area= 48\n"
          ],
          "name": "stdout"
        }
      ]
    },
    {
      "metadata": {
        "id": "gxOUbuXsJJ6z",
        "colab_type": "code",
        "colab": {}
      },
      "cell_type": "code",
      "source": [
        "tf.summary.merge_all()\n",
        "train_writer = tf.summary.FileWriter('log/area', sess.graph)"
      ],
      "execution_count": 0,
      "outputs": []
    },
    {
      "metadata": {
        "id": "GlRY7zl-DzkR",
        "colab_type": "text"
      },
      "cell_type": "markdown",
      "source": [
        "**在后台启动tensorboard时候，指定log/area目录需要使用绝对路径**\n",
        "\n",
        "例如： $>tensorboard --logdir=~/log/area"
      ]
    },
    {
      "metadata": {
        "id": "U3FJTBw3Z6-K",
        "colab_type": "code",
        "colab": {
          "base_uri": "https://localhost:8080/",
          "height": 34
        },
        "outputId": "52436eff-1843-4749-c7e4-06cf7045c2a5"
      },
      "cell_type": "code",
      "source": [
        "ts_X = tf.Variable([[0.4, 0.2, 0.4]])\n",
        "\n",
        "with tf.Session() as sess:\n",
        "  init = tf.global_variables_initializer()\n",
        "  sess.run(init)\n",
        "  X = sess.run(ts_X)\n",
        "  print(X)"
      ],
      "execution_count": 29,
      "outputs": [
        {
          "output_type": "stream",
          "text": [
            "[[0.4 0.2 0.4]]\n"
          ],
          "name": "stdout"
        }
      ]
    },
    {
      "metadata": {
        "id": "CXC5rVY3a47L",
        "colab_type": "code",
        "colab": {
          "base_uri": "https://localhost:8080/",
          "height": 34
        },
        "outputId": "f88910c7-fad8-432f-fc07-c54c38d4e90b"
      },
      "cell_type": "code",
      "source": [
        "X = tf.Variable([[1.,1.,1.]])\n",
        "\n",
        "W = tf.Variable([[-0.5,-0.2],\n",
        "                 [-0.3, 0.4],\n",
        "                 [-0.5, 0.2]])\n",
        "XW = tf.matmul(X, W)\n",
        "\n",
        "with tf.Session() as sess:\n",
        "  init = tf.global_variables_initializer()\n",
        "  sess.run(init)\n",
        "  print(sess.run(XW))"
      ],
      "execution_count": 31,
      "outputs": [
        {
          "output_type": "stream",
          "text": [
            "[[-1.3  0.4]]\n"
          ],
          "name": "stdout"
        }
      ]
    },
    {
      "metadata": {
        "id": "3FVPqWI6dqko",
        "colab_type": "code",
        "colab": {}
      },
      "cell_type": "code",
      "source": [
        ""
      ],
      "execution_count": 0,
      "outputs": []
    },
    {
      "metadata": {
        "id": "fIwL4wk7doIC",
        "colab_type": "code",
        "colab": {}
      },
      "cell_type": "code",
      "source": [
        ""
      ],
      "execution_count": 0,
      "outputs": []
    },
    {
      "metadata": {
        "id": "npnRYC-UaoI8",
        "colab_type": "code",
        "colab": {}
      },
      "cell_type": "code",
      "source": [
        ""
      ],
      "execution_count": 0,
      "outputs": []
    }
  ]
}