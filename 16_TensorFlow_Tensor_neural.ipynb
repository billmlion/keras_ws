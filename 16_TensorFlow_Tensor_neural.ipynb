{
  "nbformat": 4,
  "nbformat_minor": 0,
  "metadata": {
    "colab": {
      "name": "16_TensorFlow_Tensor_neural.ipynb",
      "version": "0.3.2",
      "provenance": [],
      "collapsed_sections": [],
      "include_colab_link": true
    },
    "kernelspec": {
      "name": "python3",
      "display_name": "Python 3"
    }
  },
  "cells": [
    {
      "cell_type": "markdown",
      "metadata": {
        "id": "view-in-github",
        "colab_type": "text"
      },
      "source": [
        "[View in Colaboratory](https://colab.research.google.com/github/billmlion/keras_ws/blob/master/16_TensorFlow_Tensor_neural.ipynb)"
      ]
    },
    {
      "metadata": {
        "id": "-vBvzSIjkN1F",
        "colab_type": "toc"
      },
      "cell_type": "markdown",
      "source": [
        ">[1.创建layer函数以矩阵运算仿真神经网络](#updateTitle=true&folderId=1yY5n-DorvxTG5qnvKJQZLIx43gJuaiyt&scrollTo=TEMvm_4oZUtc)\n",
        "\n",
        ">[2.建立layer_debug函数显示权重与偏差](#updateTitle=true&folderId=1yY5n-DorvxTG5qnvKJQZLIx43gJuaiyt&scrollTo=92aZEg91d6dO)\n",
        "\n"
      ]
    },
    {
      "metadata": {
        "id": "zDi4Ehxsvgow",
        "colab_type": "code",
        "colab": {}
      },
      "cell_type": "code",
      "source": [
        "import tensorflow as tf\n",
        "import numpy as np"
      ],
      "execution_count": 0,
      "outputs": []
    },
    {
      "metadata": {
        "id": "urGfQ863ztCt",
        "colab_type": "code",
        "colab": {
          "base_uri": "https://localhost:8080/",
          "height": 153
        },
        "outputId": "5c57d739-5366-41ff-b38b-14001bc883c3"
      },
      "cell_type": "code",
      "source": [
        "W = tf.Variable(tf.random_normal([3, 2]))\n",
        "b = tf.Variable(tf.random_normal([1, 2]))\n",
        "X = tf.Variable([[0.4,0.2,0.4]])\n",
        "y = tf.nn.relu(tf.matmul(X, W) + b)\n",
        "with tf.Session() as sess:\n",
        "    init = tf.global_variables_initializer()\n",
        "    sess.run(init)\n",
        "    (_b,_W,_y)=sess.run((b,W,y))\n",
        "    print('b:')\n",
        "    print(_b)\n",
        "    print('W:')\n",
        "    print(_W)\n",
        "    print('y:')\n",
        "    print(_y)   "
      ],
      "execution_count": 7,
      "outputs": [
        {
          "output_type": "stream",
          "text": [
            "b:\n",
            "[[0.676611   0.27887306]]\n",
            "W:\n",
            "[[ 1.4209504  -1.3633803 ]\n",
            " [-0.5120416   0.30781475]\n",
            " [-0.0133632   0.03658662]]\n",
            "y:\n",
            "[[1.1372375 0.       ]]\n"
          ],
          "name": "stdout"
        }
      ]
    },
    {
      "metadata": {
        "id": "rlzKl2DBmEIC",
        "colab_type": "code",
        "colab": {}
      },
      "cell_type": "code",
      "source": [
        "#@title 以placehold方式传入X值，在执行计算图阶段，使用feed_dict传入数组才设置数值。\n",
        "\n",
        "W = tf.Variable(tf.random_normal([3, 2]))\n",
        "b = tf.Variable(tf.random_normal([1, 2]))\n",
        "X = tf.placeholder(\"float\", [None,3])\n",
        "y=tf.nn.relu(tf.matmul(X,W)+b)\n",
        "with tf.Session() as sess:\n",
        "    init = tf.global_variables_initializer()\n",
        "    sess.run(init)\n",
        "    X_array = np.array([[0.4,0.2,0.4]])\n",
        "    (_b,_W,_X,_y)=sess.run((b,W,X,y),feed_dict={X:X_array})\n",
        "    print('b:')\n",
        "    print(_b)    \n",
        "    print('W:')\n",
        "    print(_W)\n",
        "    print('X:')\n",
        "    print(_X)\n",
        "    print('y:')\n",
        "    print(_y)"
      ],
      "execution_count": 0,
      "outputs": []
    },
    {
      "metadata": {
        "id": "5KpYHw1C1Uso",
        "colab_type": "code",
        "colab": {
          "base_uri": "https://localhost:8080/",
          "height": 34
        },
        "outputId": "e2f3131b-0dcb-4d12-a28d-e9c3bc6a3896"
      },
      "cell_type": "code",
      "source": [
        "ts_norm = tf.random_normal([1000])\n",
        "with tf.Session() as session:\n",
        "  norm_data = ts_norm.eval()\n",
        "print(norm_data[:5])  \n",
        "  "
      ],
      "execution_count": 8,
      "outputs": [
        {
          "output_type": "stream",
          "text": [
            "[ 0.38741645  0.29046267 -0.94927996  0.7397975   0.9209574 ]\n"
          ],
          "name": "stdout"
        }
      ]
    },
    {
      "metadata": {
        "id": "E7XVIEHu1ync",
        "colab_type": "code",
        "colab": {
          "base_uri": "https://localhost:8080/",
          "height": 347
        },
        "outputId": "2104019f-38f4-4daa-f416-c1f00d37e2a7"
      },
      "cell_type": "code",
      "source": [
        "import matplotlib.pyplot as plt\n",
        "plt.hist(norm_data)\n",
        "plt.show()"
      ],
      "execution_count": 9,
      "outputs": [
        {
          "output_type": "display_data",
          "data": {
            "image/png": "[encoded data removed]",
            "text/plain": [
              "<matplotlib.figure.Figure at 0x7f27b9b08d68>"
            ]
          },
          "metadata": {
            "tags": []
          }
        }
      ]
    },
    {
      "metadata": {
        "id": "TEMvm_4oZUtc",
        "colab_type": "text"
      },
      "cell_type": "markdown",
      "source": [
        "# 1.创建layer函数以矩阵运算仿真神经网络\n"
      ]
    },
    {
      "metadata": {
        "id": "-5pTaJdM1_6g",
        "colab_type": "code",
        "colab": {}
      },
      "cell_type": "code",
      "source": [
        "# 1.layer 函数\n",
        "def layer(output_dim, input_dim, inputs, activation=None):\n",
        "   W = tf.Variable(tf.random_normal([input_dim, output_dim]))\n",
        "   b= tf.Variable(tf.random_normal([1, output_dim]))\n",
        "   XWb = tf.matmul(inputs, W) + b\n",
        "   if activation is None:\n",
        "      outputs = XWb\n",
        "   else:\n",
        "      outputs = activation(XWb)\n",
        "   return outputs"
      ],
      "execution_count": 0,
      "outputs": []
    },
    {
      "metadata": {
        "id": "KSl-DRm8doTl",
        "colab_type": "code",
        "colab": {}
      },
      "cell_type": "code",
      "source": [
        ""
      ],
      "execution_count": 0,
      "outputs": []
    },
    {
      "metadata": {
        "id": "HDGxLwYPamTT",
        "colab_type": "code",
        "colab": {
          "base_uri": "https://localhost:8080/",
          "height": 119
        },
        "outputId": "f742da76-9478-4e82-b8de-b745590ca265"
      },
      "cell_type": "code",
      "source": [
        "# 2.使用layer函数建立3层类神经网络\n",
        "\n",
        "X = tf.placeholder('float', [None,4])\n",
        "h = layer(output_dim=3, input_dim=4, inputs=X, activation=tf.nn.relu)\n",
        "y = layer(output_dim=2, input_dim=3,inputs=h)\n",
        "with tf.Session() as sess:\n",
        "  init = tf.global_variables_initializer()\n",
        "  sess.run(init)\n",
        "  X_array = np.array([[0.4, 0.2, 0.4, 0.5]])\n",
        "  (layer_X, layer_h, layer_y) = sess.run((X, h, y), feed_dict={X:X_array})\n",
        "  print('input Layer X:')\n",
        "  print(layer_X)\n",
        "  print('hidden Layer h:')\n",
        "  print(layer_h)\n",
        "  print('output Layer y:')\n",
        "  print(layer_y)"
      ],
      "execution_count": 13,
      "outputs": [
        {
          "output_type": "stream",
          "text": [
            "input Layer X:\n",
            "[[0.4 0.2 0.4 0.5]]\n",
            "hidden Layer h:\n",
            "[[0.2017563  0.48421675 0.43532783]]\n",
            "output Layer y:\n",
            "[[-2.8541152  1.7165653]]\n"
          ],
          "name": "stdout"
        }
      ]
    },
    {
      "metadata": {
        "id": "4wt_1lNtdo51",
        "colab_type": "code",
        "colab": {}
      },
      "cell_type": "code",
      "source": [
        ""
      ],
      "execution_count": 0,
      "outputs": []
    },
    {
      "metadata": {
        "id": "92aZEg91d6dO",
        "colab_type": "text"
      },
      "cell_type": "markdown",
      "source": [
        "# 2.建立layer_debug函数显示权重与偏差"
      ]
    },
    {
      "metadata": {
        "id": "1IkMzrwleIT7",
        "colab_type": "code",
        "colab": {}
      },
      "cell_type": "code",
      "source": [
        "def layer_debug(output_dim, input_dim, inputs, activation=None):\n",
        "  W = tf.Variable(tf.random_normal([input_dim, output_dim]))\n",
        "  b = tf.Variable(tf.random_normal([1, output_dim]))\n",
        "  XWb = tf.matmul(inputs, W) + b\n",
        "  if activation is None:\n",
        "    outputs = XWb\n",
        "  else:\n",
        "    outputs = activation(XWb)\n",
        "  return outputs, W, b"
      ],
      "execution_count": 0,
      "outputs": []
    },
    {
      "metadata": {
        "id": "ig8BJVCEgxmL",
        "colab_type": "code",
        "colab": {}
      },
      "cell_type": "code",
      "source": [
        ""
      ],
      "execution_count": 0,
      "outputs": []
    },
    {
      "metadata": {
        "id": "FdR2jzUEfGf2",
        "colab_type": "code",
        "colab": {
          "base_uri": "https://localhost:8080/",
          "height": 340
        },
        "outputId": "035d9ae7-4ede-4fc4-99bc-6aac8f8538ea"
      },
      "cell_type": "code",
      "source": [
        "X = tf.placeholder('float', [None,4])\n",
        "h, W1, b1 = layer_debug(output_dim=3, input_dim=4, inputs=X, activation=tf.nn.relu)\n",
        "y, W2, b2 = layer_debug(output_dim=2, input_dim=3, inputs=h)\n",
        "\n",
        "with tf.Session() as sess:\n",
        "  init = tf.global_variables_initializer()\n",
        "  sess.run(init)\n",
        "  X_array = np.array([[0.4, 0.2, 0.4, 0.5]])\n",
        "  (layer_X,layer_h,layer_y,W1,b1,W2,b2)= \\\n",
        "             sess.run((X,h,y,W1,b1,W2,b2),feed_dict={X:X_array})\n",
        "  print('input Layer X:')\n",
        "  print(layer_X)\n",
        "  print('W1:')\n",
        "  print(  W1)    \n",
        "  print('b1:')\n",
        "  print(  b1)    \n",
        "  print('hidden Layer h:')\n",
        "  print(layer_h)    \n",
        "  print('W2:')\n",
        "  print(  W2)    \n",
        "  print('b2:')\n",
        "  print(  b2)    \n",
        "  print('output Layer y:')\n",
        "  print(layer_y)\n",
        "  "
      ],
      "execution_count": 22,
      "outputs": [
        {
          "output_type": "stream",
          "text": [
            "input Layer X:\n",
            "[[0.4 0.2 0.4 0.5]]\n",
            "W1:\n",
            "[[ 0.07049839  0.13613874 -0.4087906 ]\n",
            " [ 0.7956886   1.0487006  -0.05919934]\n",
            " [ 0.8363816  -0.05417746  0.57882476]\n",
            " [-0.2986054   0.6273034   1.0737748 ]]\n",
            "b1:\n",
            "[[0.36835155 0.9936657  0.3718598 ]]\n",
            "hidden Layer h:\n",
            "[[0.74093854 1.5498421  0.964921  ]]\n",
            "W2:\n",
            "[[-0.19525759  0.8648981 ]\n",
            " [-0.6605894   0.15314767]\n",
            " [ 1.1706902  -1.78995   ]]\n",
            "b2:\n",
            "[[-1.3197144  1.3590251]]\n",
            "output Layer y:\n",
            "[[-1.358574    0.51005584]]\n"
          ],
          "name": "stdout"
        }
      ]
    },
    {
      "metadata": {
        "id": "MQWvu08xhf3C",
        "colab_type": "code",
        "colab": {}
      },
      "cell_type": "code",
      "source": [
        ""
      ],
      "execution_count": 0,
      "outputs": []
    },
    {
      "metadata": {
        "id": "Vh_5k-rphd_9",
        "colab_type": "code",
        "colab": {}
      },
      "cell_type": "code",
      "source": [
        ""
      ],
      "execution_count": 0,
      "outputs": []
    },
    {
      "metadata": {
        "id": "tOA69I1whW9R",
        "colab_type": "code",
        "colab": {}
      },
      "cell_type": "code",
      "source": [
        ""
      ],
      "execution_count": 0,
      "outputs": []
    },
    {
      "metadata": {
        "id": "y8u35JNfg7Dm",
        "colab_type": "code",
        "colab": {}
      },
      "cell_type": "code",
      "source": [
        ""
      ],
      "execution_count": 0,
      "outputs": []
    },
    {
      "metadata": {
        "id": "hQJ8IhTkg2pc",
        "colab_type": "code",
        "colab": {}
      },
      "cell_type": "code",
      "source": [
        ""
      ],
      "execution_count": 0,
      "outputs": []
    },
    {
      "metadata": {
        "id": "RjTVV0rlgyGZ",
        "colab_type": "code",
        "colab": {}
      },
      "cell_type": "code",
      "source": [
        ""
      ],
      "execution_count": 0,
      "outputs": []
    },
    {
      "metadata": {
        "id": "PlKloBbrgk61",
        "colab_type": "code",
        "colab": {}
      },
      "cell_type": "code",
      "source": [
        ""
      ],
      "execution_count": 0,
      "outputs": []
    }
  ]
}