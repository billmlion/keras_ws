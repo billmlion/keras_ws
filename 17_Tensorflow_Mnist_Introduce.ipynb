{
  "nbformat": 4,
  "nbformat_minor": 0,
  "metadata": {
    "colab": {
      "name": "17_Tensorflow_Mnist_Introduce.ipynb",
      "version": "0.3.2",
      "provenance": [],
      "collapsed_sections": [],
      "include_colab_link": true
    },
    "kernelspec": {
      "name": "python3",
      "display_name": "Python 3"
    }
  },
  "cells": [
    {
      "cell_type": "markdown",
      "metadata": {
        "id": "view-in-github",
        "colab_type": "text"
      },
      "source": [
        "[View in Colaboratory](https://colab.research.google.com/github/billmlion/keras_ws/blob/master/17_Tensorflow_Mnist_Introduce.ipynb)"
      ]
    },
    {
      "metadata": {
        "id": "1ciiLJmdm9aT",
        "colab_type": "code",
        "colab": {}
      },
      "cell_type": "code",
      "source": [
        "import tensorflow as tf\n",
        "import numpy as np"
      ],
      "execution_count": 0,
      "outputs": []
    },
    {
      "metadata": {
        "id": "YP9IpruEnm0E",
        "colab_type": "code",
        "colab": {}
      },
      "cell_type": "code",
      "source": [
        "import tensorflow.examples.tutorials.mnist.input_data as input_data"
      ],
      "execution_count": 0,
      "outputs": []
    },
    {
      "metadata": {
        "id": "1o4gET8onqZX",
        "colab_type": "code",
        "colab": {
          "base_uri": "https://localhost:8080/",
          "height": 85
        },
        "outputId": "f9111d35-25d2-4338-b387-21cc2c19c5c9"
      },
      "cell_type": "code",
      "source": [
        "mnist = input_data.read_data_sets(\"MNIST_data/\", one_hot=True)"
      ],
      "execution_count": 14,
      "outputs": [
        {
          "output_type": "stream",
          "text": [
            "Extracting MNIST_data/train-images-idx3-ubyte.gz\n",
            "Extracting MNIST_data/train-labels-idx1-ubyte.gz\n",
            "Extracting MNIST_data/t10k-images-idx3-ubyte.gz\n",
            "Extracting MNIST_data/t10k-labels-idx1-ubyte.gz\n"
          ],
          "name": "stdout"
        }
      ]
    },
    {
      "metadata": {
        "id": "vdFfl3qvn0ah",
        "colab_type": "code",
        "colab": {
          "base_uri": "https://localhost:8080/",
          "height": 34
        },
        "outputId": "476fdc7a-9ba6-47ed-96dc-f27ced651ffa"
      },
      "cell_type": "code",
      "source": [
        "print('train',mnist.train.num_examples,\n",
        "      ',validation',mnist.validation.num_examples,\n",
        "      ',test',mnist.test.num_examples)"
      ],
      "execution_count": 15,
      "outputs": [
        {
          "output_type": "stream",
          "text": [
            "train 55000 ,validation 5000 ,test 10000\n"
          ],
          "name": "stdout"
        }
      ]
    },
    {
      "metadata": {
        "id": "10ONMoLOn6v0",
        "colab_type": "code",
        "colab": {
          "base_uri": "https://localhost:8080/",
          "height": 34
        },
        "outputId": "58ffab4a-24e9-472b-ab88-4b4e1966851b"
      },
      "cell_type": "code",
      "source": [
        "print('train images :', mnist.train.images.shape,\n",
        "      'labels:' , mnist.train.labels.shape)"
      ],
      "execution_count": 16,
      "outputs": [
        {
          "output_type": "stream",
          "text": [
            "train images : (55000, 784) labels: (55000, 10)\n"
          ],
          "name": "stdout"
        }
      ]
    },
    {
      "metadata": {
        "id": "O2cjzev9oJDn",
        "colab_type": "code",
        "colab": {}
      },
      "cell_type": "code",
      "source": [
        "import matplotlib.pyplot as plt\n",
        "def plot_image(image):\n",
        "    plt.imshow(image.reshape(28,28),cmap='binary')\n",
        "    plt.show()"
      ],
      "execution_count": 0,
      "outputs": []
    },
    {
      "metadata": {
        "id": "7g2akNdso87o",
        "colab_type": "code",
        "colab": {
          "base_uri": "https://localhost:8080/",
          "height": 347
        },
        "outputId": "1677195d-5fb8-4137-bb04-aaede891c759"
      },
      "cell_type": "code",
      "source": [
        "plot_image(mnist.train.images[0])"
      ],
      "execution_count": 18,
      "outputs": [
        {
          "output_type": "display_data",
          "data": {
            "image/png": "[encoded data removed]",
            "text/plain": [
              "<matplotlib.figure.Figure at 0x7fdb1c250e48>"
            ]
          },
          "metadata": {
            "tags": []
          }
        }
      ]
    },
    {
      "metadata": {
        "id": "jisHnBrbo9fZ",
        "colab_type": "code",
        "colab": {}
      },
      "cell_type": "code",
      "source": [
        "#@title 查看多项训练数据images与labels\n",
        "\n",
        "import matplotlib.pyplot as plt\n",
        "\n",
        "def plot_images_labels_prediction(images, labels, prediction, idx, num=10):\n",
        "  \n",
        "  fig = plt.gcf()\n",
        "  fig.set_size_inches(12, 14)\n",
        "  if num > 25: num=25\n",
        "  for i in range(0, num):\n",
        "    ax = plt.subplot(5, 5, 1+i)\n",
        "    ax.imshow(np.reshape(images[idx],(28, 28))),\n",
        "    \n",
        "    title = \"label=\" + str(np.argmax(labels[idx]))\n",
        "    if len(prediction)>0:\n",
        "      title += \", predict=\" + str(prediction[idx])\n",
        "    \n",
        "    ax.set_title(title, fontsize=10)\n",
        "    ax.set_xticks([])\n",
        "    ax.set_yticks([])\n",
        "    idx+=1\n",
        "  plt.show()  "
      ],
      "execution_count": 0,
      "outputs": []
    },
    {
      "metadata": {
        "id": "SFQRlNZ5VlTq",
        "colab_type": "code",
        "colab": {
          "base_uri": "https://localhost:8080/",
          "height": 318
        },
        "outputId": "b971aade-f32d-4002-d4fe-a15ec2526b44"
      },
      "cell_type": "code",
      "source": [
        "plot_images_labels_prediction(mnist.train.images,\n",
        "                              mnist.train.labels,[],0)"
      ],
      "execution_count": 20,
      "outputs": [
        {
          "output_type": "display_data",
          "data": {
            "image/png": "[encoded data removed]",
            "text/plain": [
              "<matplotlib.figure.Figure at 0x7fdb1c2260f0>"
            ]
          },
          "metadata": {
            "tags": []
          }
        }
      ]
    },
    {
      "metadata": {
        "id": "mvKC8F_QVr2-",
        "colab_type": "code",
        "colab": {}
      },
      "cell_type": "code",
      "source": [
        "#@title 批次读取MNIST数据\n",
        "\n",
        "batch_images_xs, batch_labels_ys = mnist.train.next_batch(batch_size=100)\n"
      ],
      "execution_count": 0,
      "outputs": []
    },
    {
      "metadata": {
        "id": "OQhlF_9oWrtQ",
        "colab_type": "code",
        "colab": {
          "base_uri": "https://localhost:8080/",
          "height": 34
        },
        "outputId": "18e243b6-f1ed-404d-e7b4-3880ca4607d6"
      },
      "cell_type": "code",
      "source": [
        "print(len(batch_images_xs),\n",
        "      len(batch_labels_ys))"
      ],
      "execution_count": 22,
      "outputs": [
        {
          "output_type": "stream",
          "text": [
            "100 100\n"
          ],
          "name": "stdout"
        }
      ]
    },
    {
      "metadata": {
        "id": "X8hbhDVnWzzL",
        "colab_type": "code",
        "colab": {
          "base_uri": "https://localhost:8080/",
          "height": 318
        },
        "outputId": "386910c0-8c04-4eea-ad5a-18b1bdb1bb89"
      },
      "cell_type": "code",
      "source": [
        "plot_images_labels_prediction(batch_images_xs,\n",
        "                              batch_labels_ys,[],0)"
      ],
      "execution_count": 24,
      "outputs": [
        {
          "output_type": "display_data",
          "data": {
            "image/png": "[encoded data removed]",
            "text/plain": [
              "<matplotlib.figure.Figure at 0x7fdb1c099160>"
            ]
          },
          "metadata": {
            "tags": []
          }
        }
      ]
    },
    {
      "metadata": {
        "id": "FboBJLMXW8XE",
        "colab_type": "code",
        "colab": {}
      },
      "cell_type": "code",
      "source": [
        ""
      ],
      "execution_count": 0,
      "outputs": []
    },
    {
      "metadata": {
        "id": "ylBUPKdXW6AC",
        "colab_type": "code",
        "colab": {}
      },
      "cell_type": "code",
      "source": [
        ""
      ],
      "execution_count": 0,
      "outputs": []
    },
    {
      "metadata": {
        "id": "nO6BttBVTsjV",
        "colab_type": "text"
      },
      "cell_type": "markdown",
      "source": [
        ""
      ]
    }
  ]
}