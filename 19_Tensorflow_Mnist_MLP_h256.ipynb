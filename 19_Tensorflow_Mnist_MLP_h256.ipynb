{
  "nbformat": 4,
  "nbformat_minor": 0,
  "metadata": {
    "colab": {
      "name": "19_Tensorflow_Mnist_MLP_h256.ipynb",
      "version": "0.3.2",
      "provenance": [],
      "collapsed_sections": [],
      "include_colab_link": true
    },
    "kernelspec": {
      "name": "python3",
      "display_name": "Python 3"
    }
  },
  "cells": [
    {
      "cell_type": "markdown",
      "metadata": {
        "id": "view-in-github",
        "colab_type": "text"
      },
      "source": [
        "[View in Colaboratory](https://colab.research.google.com/github/billmlion/keras_ws/blob/master/19_Tensorflow_Mnist_MLP_h256.ipynb)"
      ]
    },
    {
      "metadata": {
        "id": "BtniK9fTt1aV",
        "colab_type": "text"
      },
      "cell_type": "markdown",
      "source": [
        "# 1.数据准备"
      ]
    },
    {
      "metadata": {
        "id": "rRqw59oMXpOL",
        "colab_type": "code",
        "colab": {
          "base_uri": "https://localhost:8080/",
          "height": 530
        },
        "outputId": "693ddc0a-e06b-4a72-bd3b-e8c6c0b0eff3"
      },
      "cell_type": "code",
      "source": [
        "import tensorflow as tf\n",
        "import tensorflow.examples.tutorials.mnist.input_data as input_data\n",
        "\n",
        "mnist = input_data.read_data_sets(\"MNIST_data/\", one_hot=True)"
      ],
      "execution_count": 1,
      "outputs": [
        {
          "output_type": "stream",
          "text": [
            "WARNING:tensorflow:From <ipython-input-1-2ee827ab903d>:4: read_data_sets (from tensorflow.contrib.learn.python.learn.datasets.mnist) is deprecated and will be removed in a future version.\n",
            "Instructions for updating:\n",
            "Please use alternatives such as official/mnist/dataset.py from tensorflow/models.\n",
            "WARNING:tensorflow:From /usr/local/lib/python3.6/dist-packages/tensorflow/contrib/learn/python/learn/datasets/mnist.py:260: maybe_download (from tensorflow.contrib.learn.python.learn.datasets.base) is deprecated and will be removed in a future version.\n",
            "Instructions for updating:\n",
            "Please write your own downloading logic.\n",
            "WARNING:tensorflow:From /usr/local/lib/python3.6/dist-packages/tensorflow/contrib/learn/python/learn/datasets/base.py:252: _internal_retry.<locals>.wrap.<locals>.wrapped_fn (from tensorflow.contrib.learn.python.learn.datasets.base) is deprecated and will be removed in a future version.\n",
            "Instructions for updating:\n",
            "Please use urllib or similar directly.\n",
            "Successfully downloaded train-images-idx3-ubyte.gz 9912422 bytes.\n",
            "WARNING:tensorflow:From /usr/local/lib/python3.6/dist-packages/tensorflow/contrib/learn/python/learn/datasets/mnist.py:262: extract_images (from tensorflow.contrib.learn.python.learn.datasets.mnist) is deprecated and will be removed in a future version.\n",
            "Instructions for updating:\n",
            "Please use tf.data to implement this functionality.\n",
            "Extracting MNIST_data/train-images-idx3-ubyte.gz\n",
            "Successfully downloaded train-labels-idx1-ubyte.gz 28881 bytes.\n",
            "WARNING:tensorflow:From /usr/local/lib/python3.6/dist-packages/tensorflow/contrib/learn/python/learn/datasets/mnist.py:267: extract_labels (from tensorflow.contrib.learn.python.learn.datasets.mnist) is deprecated and will be removed in a future version.\n",
            "Instructions for updating:\n",
            "Please use tf.data to implement this functionality.\n",
            "Extracting MNIST_data/train-labels-idx1-ubyte.gz\n",
            "WARNING:tensorflow:From /usr/local/lib/python3.6/dist-packages/tensorflow/contrib/learn/python/learn/datasets/mnist.py:110: dense_to_one_hot (from tensorflow.contrib.learn.python.learn.datasets.mnist) is deprecated and will be removed in a future version.\n",
            "Instructions for updating:\n",
            "Please use tf.one_hot on tensors.\n",
            "Successfully downloaded t10k-images-idx3-ubyte.gz 1648877 bytes.\n",
            "Extracting MNIST_data/t10k-images-idx3-ubyte.gz\n",
            "Successfully downloaded t10k-labels-idx1-ubyte.gz 4542 bytes.\n",
            "Extracting MNIST_data/t10k-labels-idx1-ubyte.gz\n",
            "WARNING:tensorflow:From /usr/local/lib/python3.6/dist-packages/tensorflow/contrib/learn/python/learn/datasets/mnist.py:290: DataSet.__init__ (from tensorflow.contrib.learn.python.learn.datasets.mnist) is deprecated and will be removed in a future version.\n",
            "Instructions for updating:\n",
            "Please use alternatives such as official/mnist/dataset.py from tensorflow/models.\n"
          ],
          "name": "stdout"
        }
      ]
    },
    {
      "metadata": {
        "id": "dJaLN5x1tnL-",
        "colab_type": "code",
        "colab": {
          "base_uri": "https://localhost:8080/",
          "height": 68
        },
        "outputId": "86affa40-723d-4d5c-e61d-b7e1bc5afa75"
      },
      "cell_type": "code",
      "source": [
        "print('train images     :', mnist.train.images.shape,\n",
        "      'labels:'           , mnist.train.labels.shape)\n",
        "print('validation images:', mnist.validation.images.shape,\n",
        "      ' labels:'          , mnist.validation.labels.shape)\n",
        "print('test images      :', mnist.test.images.shape,\n",
        "      'labels:'           , mnist.test.labels.shape)"
      ],
      "execution_count": 2,
      "outputs": [
        {
          "output_type": "stream",
          "text": [
            "train images     : (55000, 784) labels: (55000, 10)\n",
            "validation images: (5000, 784)  labels: (5000, 10)\n",
            "test images      : (10000, 784) labels: (10000, 10)\n"
          ],
          "name": "stdout"
        }
      ]
    },
    {
      "metadata": {
        "id": "7zBglVPntzzo",
        "colab_type": "text"
      },
      "cell_type": "markdown",
      "source": [
        "# 2.建立模型"
      ]
    },
    {
      "metadata": {
        "id": "jebjm0CutuH4",
        "colab_type": "code",
        "colab": {}
      },
      "cell_type": "code",
      "source": [
        "def layer(output_dim,input_dim,inputs, activation=None):\n",
        "    W = tf.Variable(tf.random_normal([input_dim, output_dim]))\n",
        "    b = tf.Variable(tf.random_normal([1, output_dim]))\n",
        "    XWb = tf.matmul(inputs, W) + b\n",
        "    if activation is None:\n",
        "        outputs = XWb\n",
        "    else:\n",
        "        outputs = activation(XWb)\n",
        "    return outputs"
      ],
      "execution_count": 0,
      "outputs": []
    },
    {
      "metadata": {
        "id": "Bzw3Mq_RuLlI",
        "colab_type": "code",
        "colab": {}
      },
      "cell_type": "code",
      "source": [
        "# 建立输入层 x \n",
        "x = tf.placeholder(\"float\", [None, 784])\n",
        "\n",
        "# 建立隐藏层h1\n",
        "h1=layer(output_dim=256,input_dim=784,\n",
        "         inputs=x ,activation=tf.nn.relu)  \n",
        "# 建立输出层\n",
        "y_predict=layer(output_dim=10,input_dim=256,\n",
        "                    inputs=h1,activation=None)\n",
        "\n"
      ],
      "execution_count": 0,
      "outputs": []
    },
    {
      "metadata": {
        "id": "UAiu58jDuZSn",
        "colab_type": "text"
      },
      "cell_type": "markdown",
      "source": [
        "# 3.定义训练方式"
      ]
    },
    {
      "metadata": {
        "id": "tUQ2qcwnuU_V",
        "colab_type": "code",
        "colab": {
          "base_uri": "https://localhost:8080/",
          "height": 173
        },
        "outputId": "5c7f5cb5-e1d4-4aec-a072-b93ca0a9797e"
      },
      "cell_type": "code",
      "source": [
        "#建立训练数据label真实值 placeholder\n",
        "y_label = tf.placeholder(\"float\", [None, 10])\n",
        "\n",
        "#定义loss function\n",
        "loss_function = tf.reduce_mean(\n",
        "                  tf.nn.softmax_cross_entropy_with_logits\n",
        "                         (logits=y_predict , \n",
        "                          labels=y_label))\n",
        "#选择optimizer\n",
        "optimizer = tf.train.AdamOptimizer(learning_rate=0.001) \\\n",
        "                    .minimize(loss_function)"
      ],
      "execution_count": 6,
      "outputs": [
        {
          "output_type": "stream",
          "text": [
            "WARNING:tensorflow:From <ipython-input-6-bab9b985ca36>:7: softmax_cross_entropy_with_logits (from tensorflow.python.ops.nn_ops) is deprecated and will be removed in a future version.\n",
            "Instructions for updating:\n",
            "\n",
            "Future major versions of TensorFlow will allow gradients to flow\n",
            "into the labels input on backprop by default.\n",
            "\n",
            "See @{tf.nn.softmax_cross_entropy_with_logits_v2}.\n",
            "\n"
          ],
          "name": "stdout"
        }
      ]
    },
    {
      "metadata": {
        "id": "E1mG3ILZuqN3",
        "colab_type": "text"
      },
      "cell_type": "markdown",
      "source": [
        "# 4.定义评估模型的准确率"
      ]
    },
    {
      "metadata": {
        "id": "grR2oBLCutIu",
        "colab_type": "code",
        "colab": {}
      },
      "cell_type": "code",
      "source": [
        "#计算每一项数据是否正确预测\n",
        "correct_prediction = tf.equal(tf.argmax(y_label  , 1),\n",
        "                              tf.argmax(y_predict, 1))\n",
        "\n",
        "#将计算预测正确结果，加总平均\n",
        "accuracy = tf.reduce_mean(tf.cast(correct_prediction, \"float\"))"
      ],
      "execution_count": 0,
      "outputs": []
    },
    {
      "metadata": {
        "id": "v7nWm6JgvOgC",
        "colab_type": "text"
      },
      "cell_type": "markdown",
      "source": [
        "# 5.开始训练"
      ]
    },
    {
      "metadata": {
        "id": "a60ZsLclvQYI",
        "colab_type": "code",
        "colab": {}
      },
      "cell_type": "code",
      "source": [
        "trainEpochs = 15\n",
        "batchSize = 100\n",
        "totalBatchs = int(mnist.train.num_examples/batchSize)\n",
        "epoch_list=[];\n",
        "loss_list=[];\n",
        "accuracy_list=[]\n",
        "from time import time\n",
        "startTime=time()\n",
        "sess = tf.Session()\n",
        "sess.run(tf.global_variables_initializer())"
      ],
      "execution_count": 0,
      "outputs": []
    },
    {
      "metadata": {
        "id": "vDpU3jwivawp",
        "colab_type": "code",
        "colab": {
          "base_uri": "https://localhost:8080/",
          "height": 289
        },
        "outputId": "2dc1742b-6155-4862-e001-dbd4eb06f959"
      },
      "cell_type": "code",
      "source": [
        "for epoch in range(trainEpochs):\n",
        "    for i in range(totalBatchs):\n",
        "        batch_x, batch_y = mnist.train.next_batch(batchSize)\n",
        "        sess.run(optimizer,feed_dict={x: batch_x,y_label: batch_y})\n",
        "        \n",
        "    loss,acc = sess.run([loss_function,accuracy],\n",
        "                        feed_dict={x: mnist.validation.images, \n",
        "                                   y_label: mnist.validation.labels})\n",
        "\n",
        "    epoch_list.append(epoch)\n",
        "    loss_list.append(loss)\n",
        "    accuracy_list.append(acc)    \n",
        "    print(\"Train Epoch:\", '%02d' % (epoch+1), \"Loss=\", \\\n",
        "                \"{:.9f}\".format(loss),\" Accuracy=\",acc)\n",
        "    \n",
        "duration =time()-startTime\n",
        "print(\"Train Finished takes:\",duration)      "
      ],
      "execution_count": 9,
      "outputs": [
        {
          "output_type": "stream",
          "text": [
            "Train Epoch: 01 Loss= 6.410241604  Accuracy= 0.8448\n",
            "Train Epoch: 02 Loss= 4.208977699  Accuracy= 0.8876\n",
            "Train Epoch: 03 Loss= 3.328127384  Accuracy= 0.9032\n",
            "Train Epoch: 04 Loss= 2.839210749  Accuracy= 0.9134\n",
            "Train Epoch: 05 Loss= 2.525254965  Accuracy= 0.919\n",
            "Train Epoch: 06 Loss= 2.263635635  Accuracy= 0.925\n",
            "Train Epoch: 07 Loss= 2.014817476  Accuracy= 0.9282\n",
            "Train Epoch: 08 Loss= 1.873287559  Accuracy= 0.9322\n",
            "Train Epoch: 09 Loss= 1.747221112  Accuracy= 0.936\n",
            "Train Epoch: 10 Loss= 1.654999971  Accuracy= 0.9416\n",
            "Train Epoch: 11 Loss= 1.592970371  Accuracy= 0.9386\n",
            "Train Epoch: 12 Loss= 1.558107257  Accuracy= 0.9408\n",
            "Train Epoch: 13 Loss= 1.433523297  Accuracy= 0.9416\n",
            "Train Epoch: 14 Loss= 1.438137293  Accuracy= 0.9432\n",
            "Train Epoch: 15 Loss= 1.337883472  Accuracy= 0.9446\n",
            "Train Finished takes: 41.5299186706543\n"
          ],
          "name": "stdout"
        }
      ]
    },
    {
      "metadata": {
        "id": "rX45kxWPvdWG",
        "colab_type": "code",
        "colab": {
          "base_uri": "https://localhost:8080/",
          "height": 188
        },
        "outputId": "a8534b7f-d95d-4734-b140-d55c3d14b2b3"
      },
      "cell_type": "code",
      "source": [
        "%matplotlib inline\n",
        "import matplotlib.pyplot as plt\n",
        "fig = plt.gcf()\n",
        "fig.set_size_inches(4,2)\n",
        "plt.plot(epoch_list, loss_list, label = 'loss')\n",
        "plt.ylabel('loss')\n",
        "plt.xlabel('epoch')\n",
        "plt.legend(['loss'], loc='upper left')"
      ],
      "execution_count": 10,
      "outputs": [
        {
          "output_type": "execute_result",
          "data": {
            "text/plain": [
              "<matplotlib.legend.Legend at 0x7f3a82c01f98>"
            ]
          },
          "metadata": {
            "tags": []
          },
          "execution_count": 10
        },
        {
          "output_type": "display_data",
          "data": {
            "image/png": "[encoded data removed]",
            "text/plain": [
              "<matplotlib.figure.Figure at 0x7f3aa7cca128>"
            ]
          },
          "metadata": {
            "tags": []
          }
        }
      ]
    },
    {
      "metadata": {
        "id": "h-hw0LxGv1J1",
        "colab_type": "code",
        "colab": {
          "base_uri": "https://localhost:8080/",
          "height": 175
        },
        "outputId": "a93054bc-9634-4b5a-d0e9-d0022b3df50d"
      },
      "cell_type": "code",
      "source": [
        "plt.plot(epoch_list, accuracy_list,label=\"accuracy\" )\n",
        "fig = plt.gcf()\n",
        "fig.set_size_inches(4,2)\n",
        "plt.ylim(0.8,1)\n",
        "plt.ylabel('accuracy')\n",
        "plt.xlabel('epoch')\n",
        "plt.legend()\n",
        "plt.show()"
      ],
      "execution_count": 11,
      "outputs": [
        {
          "output_type": "display_data",
          "data": {
            "image/png": "[encoded data removed]",
            "text/plain": [
              "<matplotlib.figure.Figure at 0x7f3a8741d0b8>"
            ]
          },
          "metadata": {
            "tags": []
          }
        }
      ]
    },
    {
      "metadata": {
        "id": "Qc4OGSHuv9s7",
        "colab_type": "text"
      },
      "cell_type": "markdown",
      "source": [
        "# 6.评估模型准确率"
      ]
    },
    {
      "metadata": {
        "id": "PHR6cHXbv6Hj",
        "colab_type": "code",
        "colab": {
          "base_uri": "https://localhost:8080/",
          "height": 34
        },
        "outputId": "e95e2deb-a13e-461f-9255-7593534d4465"
      },
      "cell_type": "code",
      "source": [
        "print(\"Accuracy:\", sess.run(accuracy,\n",
        "                           feed_dict={x: mnist.test.images,\n",
        "                                      y_label: mnist.test.labels}))"
      ],
      "execution_count": 12,
      "outputs": [
        {
          "output_type": "stream",
          "text": [
            "Accuracy: 0.9463\n"
          ],
          "name": "stdout"
        }
      ]
    },
    {
      "metadata": {
        "id": "TDg7OZ2kwH6-",
        "colab_type": "text"
      },
      "cell_type": "markdown",
      "source": [
        "# 7.进行预测"
      ]
    },
    {
      "metadata": {
        "id": "kTmEj8bWwKS2",
        "colab_type": "code",
        "colab": {}
      },
      "cell_type": "code",
      "source": [
        "prediction_result=sess.run(tf.argmax(y_predict,1),\n",
        "                           feed_dict={x: mnist.test.images })"
      ],
      "execution_count": 0,
      "outputs": []
    },
    {
      "metadata": {
        "id": "LrfqD2aXwL1w",
        "colab_type": "code",
        "colab": {
          "base_uri": "https://localhost:8080/",
          "height": 34
        },
        "outputId": "0572a3d9-32c1-4fad-c140-23fa4b738145"
      },
      "cell_type": "code",
      "source": [
        "prediction_result[:10]"
      ],
      "execution_count": 14,
      "outputs": [
        {
          "output_type": "execute_result",
          "data": {
            "text/plain": [
              "array([7, 2, 1, 0, 4, 1, 4, 9, 6, 9])"
            ]
          },
          "metadata": {
            "tags": []
          },
          "execution_count": 14
        }
      ]
    },
    {
      "metadata": {
        "id": "n9q3zY0KwNrw",
        "colab_type": "code",
        "colab": {}
      },
      "cell_type": "code",
      "source": [
        "import matplotlib.pyplot as plt\n",
        "import numpy as np\n",
        "def plot_images_labels_prediction(images,labels,\n",
        "                                  prediction,idx,num=10):\n",
        "    fig = plt.gcf()\n",
        "    fig.set_size_inches(12, 14)\n",
        "    if num>25: num=25 \n",
        "    for i in range(0, num):\n",
        "        ax=plt.subplot(5,5, 1+i)\n",
        "        \n",
        "        ax.imshow(np.reshape(images[idx],(28, 28)), \n",
        "                  cmap='binary')\n",
        "            \n",
        "        title= \"label=\" +str(np.argmax(labels[idx]))\n",
        "        if len(prediction)>0:\n",
        "            title+=\",predict=\"+str(prediction[idx]) \n",
        "            \n",
        "        ax.set_title(title,fontsize=10) \n",
        "        ax.set_xticks([]);ax.set_yticks([])        \n",
        "        idx+=1 \n",
        "    plt.show()"
      ],
      "execution_count": 0,
      "outputs": []
    },
    {
      "metadata": {
        "id": "n5RdDF3uwRdB",
        "colab_type": "code",
        "colab": {
          "base_uri": "https://localhost:8080/",
          "height": 318
        },
        "outputId": "c17941af-ba55-4247-8e03-2b9075084d1f"
      },
      "cell_type": "code",
      "source": [
        "plot_images_labels_prediction(mnist.test.images,\n",
        "                              mnist.test.labels,\n",
        "                              prediction_result,0)"
      ],
      "execution_count": 16,
      "outputs": [
        {
          "output_type": "display_data",
          "data": {
            "image/png": "[encoded data removed]",
            "text/plain": [
              "<matplotlib.figure.Figure at 0x7f3a82b6c7f0>"
            ]
          },
          "metadata": {
            "tags": []
          }
        }
      ]
    },
    {
      "metadata": {
        "id": "itA8CdwswUMG",
        "colab_type": "code",
        "colab": {}
      },
      "cell_type": "code",
      "source": [
        "y_predict_Onehot=sess.run(y_predict,\n",
        "                          feed_dict={x: mnist.test.images })"
      ],
      "execution_count": 0,
      "outputs": []
    },
    {
      "metadata": {
        "id": "GIJPP98Rwe8B",
        "colab_type": "code",
        "colab": {
          "base_uri": "https://localhost:8080/",
          "height": 68
        },
        "outputId": "d436a89d-9074-4c2f-9980-51260e12dba8"
      },
      "cell_type": "code",
      "source": [
        "y_predict_Onehot[8]"
      ],
      "execution_count": 18,
      "outputs": [
        {
          "output_type": "execute_result",
          "data": {
            "text/plain": [
              "array([ 9.0170443e-02, -7.7009003e+01, -3.9955341e+01, -1.9126238e+01,\n",
              "        1.5764010e+01,  8.9920471e+01,  9.4398308e+01, -9.8377457e+01,\n",
              "        3.9008595e+01,  9.5211506e+00], dtype=float32)"
            ]
          },
          "metadata": {
            "tags": []
          },
          "execution_count": 18
        }
      ]
    },
    {
      "metadata": {
        "id": "0eqMzjv9wnzt",
        "colab_type": "text"
      },
      "cell_type": "markdown",
      "source": [
        "# 8.找出预测错误"
      ]
    },
    {
      "metadata": {
        "id": "x07cCGzxwgy3",
        "colab_type": "code",
        "colab": {
          "base_uri": "https://localhost:8080/",
          "height": 408
        },
        "outputId": "b6a09f6f-6061-48d6-f8df-48ba89e1e2e1"
      },
      "cell_type": "code",
      "source": [
        "for i in range(400):\n",
        "    if prediction_result[i]!=np.argmax(mnist.test.labels[i]):\n",
        "        print(\"i=\"+str(i)+\n",
        "              \"   label=\",np.argmax(mnist.test.labels[i]),\n",
        "              \"predict=\",prediction_result[i])"
      ],
      "execution_count": 19,
      "outputs": [
        {
          "output_type": "stream",
          "text": [
            "i=8   label= 5 predict= 6\n",
            "i=33   label= 4 predict= 0\n",
            "i=36   label= 7 predict= 2\n",
            "i=63   label= 3 predict= 2\n",
            "i=115   label= 4 predict= 6\n",
            "i=121   label= 4 predict= 8\n",
            "i=149   label= 2 predict= 4\n",
            "i=160   label= 4 predict= 8\n",
            "i=175   label= 7 predict= 1\n",
            "i=211   label= 5 predict= 7\n",
            "i=215   label= 0 predict= 2\n",
            "i=224   label= 1 predict= 2\n",
            "i=247   label= 4 predict= 2\n",
            "i=259   label= 6 predict= 0\n",
            "i=268   label= 8 predict= 9\n",
            "i=282   label= 7 predict= 2\n",
            "i=321   label= 2 predict= 7\n",
            "i=326   label= 2 predict= 1\n",
            "i=340   label= 5 predict= 3\n",
            "i=341   label= 6 predict= 5\n",
            "i=358   label= 7 predict= 4\n",
            "i=387   label= 2 predict= 8\n",
            "i=391   label= 8 predict= 2\n"
          ],
          "name": "stdout"
        }
      ]
    },
    {
      "metadata": {
        "id": "qckOaLqNwkxQ",
        "colab_type": "code",
        "colab": {}
      },
      "cell_type": "code",
      "source": [
        "sess.close()"
      ],
      "execution_count": 0,
      "outputs": []
    },
    {
      "metadata": {
        "id": "NZdeAuqDwDcL",
        "colab_type": "code",
        "colab": {}
      },
      "cell_type": "code",
      "source": [
        ""
      ],
      "execution_count": 0,
      "outputs": []
    }
  ]
}