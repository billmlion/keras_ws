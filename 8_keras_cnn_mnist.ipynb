{
  "nbformat": 4,
  "nbformat_minor": 0,
  "metadata": {
    "colab": {
      "name": "8_keras_cnn_mnist.ipynb",
      "version": "0.3.2",
      "provenance": [],
      "collapsed_sections": [],
      "include_colab_link": true
    },
    "kernelspec": {
      "name": "python3",
      "display_name": "Python 3"
    }
  },
  "cells": [
    {
      "cell_type": "markdown",
      "metadata": {
        "id": "view-in-github",
        "colab_type": "text"
      },
      "source": [
        "[View in Colaboratory](https://colab.research.google.com/github/billmlion/keras_ws/blob/master/8_keras_cnn_mnist.ipynb)"
      ]
    },
    {
      "metadata": {
        "id": "U-Ovw56w11vL",
        "colab_type": "toc"
      },
      "cell_type": "markdown",
      "source": [
        ">[1.数据预处理](#scrollTo=4NNSQe_Iz2qB)\n",
        "\n",
        ">[2.建立模型](#scrollTo=nr8g_l495qMF)\n",
        "\n",
        ">[3.训练模型](#scrollTo=wjP45fK_HcgE)\n",
        "\n",
        ">[4.评估模型准确率](#scrollTo=hQB4eB0nUXYK)\n",
        "\n",
        ">[5.进行预测](#scrollTo=nhW24HexUrBk)\n",
        "\n",
        ">[6.查看预测结果](#scrollTo=SAUKuayGU9Ng)\n",
        "\n",
        ">>[混淆矩阵](#scrollTo=v1ktZ9lgVKUa)\n",
        "\n"
      ]
    },
    {
      "metadata": {
        "id": "4NNSQe_Iz2qB",
        "colab_type": "text"
      },
      "cell_type": "markdown",
      "source": [
        "# 1.数据预处理"
      ]
    },
    {
      "metadata": {
        "id": "ZQETkgZGzoAc",
        "colab_type": "code",
        "colab": {
          "base_uri": "https://localhost:8080/",
          "height": 34
        },
        "outputId": "ce124a05-2e51-41b2-f8ea-854788c81a02"
      },
      "cell_type": "code",
      "source": [
        "from keras.datasets import mnist\n",
        "from keras.utils import np_utils\n",
        "import numpy as np\n",
        "np.random.seed(10)"
      ],
      "execution_count": 2,
      "outputs": [
        {
          "output_type": "stream",
          "text": [
            "Using TensorFlow backend.\n"
          ],
          "name": "stderr"
        }
      ]
    },
    {
      "metadata": {
        "id": "GosBTYpk2O-I",
        "colab_type": "code",
        "colab": {
          "base_uri": "https://localhost:8080/",
          "height": 51
        },
        "outputId": "edc3f777-6c51-4570-d368-2c7a7d2da383"
      },
      "cell_type": "code",
      "source": [
        "(x_Train, y_Train), (x_Test, y_Test) = mnist.load_data()"
      ],
      "execution_count": 3,
      "outputs": [
        {
          "output_type": "stream",
          "text": [
            "Downloading data from https://s3.amazonaws.com/img-datasets/mnist.npz\n",
            "11493376/11490434 [==============================] - 3s 0us/step\n"
          ],
          "name": "stdout"
        }
      ]
    },
    {
      "metadata": {
        "id": "8xhaSHOf2Pcs",
        "colab_type": "code",
        "colab": {}
      },
      "cell_type": "code",
      "source": [
        "#@title 卷积神经网络因为需要卷积与池化运算，所以需要保持图像的维数，所以reshape转化为6000项，每一项为28x28x1的图像（高x宽x单色）；\n",
        "x_Train4D=x_Train.reshape(x_Train.shape[0],28,28,1).astype('float32')\n",
        "x_Test4D=x_Test.reshape(x_Test.shape[0],28,28,1).astype('float32')"
      ],
      "execution_count": 0,
      "outputs": []
    },
    {
      "metadata": {
        "id": "UY6yi7OO2iAh",
        "colab_type": "code",
        "colab": {}
      },
      "cell_type": "code",
      "source": [
        "x_Train4D_normalize = x_Train4D / 255\n",
        "x_Test4D_normalize = x_Test4D / 255"
      ],
      "execution_count": 0,
      "outputs": []
    },
    {
      "metadata": {
        "id": "JVskulh42jr1",
        "colab_type": "code",
        "colab": {}
      },
      "cell_type": "code",
      "source": [
        "y_TrainOneHot = np_utils.to_categorical(y_Train)\n",
        "y_TestOneHot = np_utils.to_categorical(y_Test)"
      ],
      "execution_count": 0,
      "outputs": []
    },
    {
      "metadata": {
        "id": "vt6biROP4_LP",
        "colab_type": "text"
      },
      "cell_type": "markdown",
      "source": [
        "\n",
        "\n",
        "**1.   卷积神经网络因为需要卷积与池化运算，所以需要保持图像的维数，所以reshape转化为6000项，每一项为28x28x1的图像（高x宽x单色）**\n",
        "\n",
        "**2.   多层感知器直接送进神经元处理，所以reshape转化为6000项，每项为784个（28x28）数字作为神经元输入；**\n",
        "\n"
      ]
    },
    {
      "metadata": {
        "id": "nr8g_l495qMF",
        "colab_type": "text"
      },
      "cell_type": "markdown",
      "source": [
        "# 2.建立模型"
      ]
    },
    {
      "metadata": {
        "id": "1aiSWCs55qnI",
        "colab_type": "code",
        "colab": {}
      },
      "cell_type": "code",
      "source": [
        "from keras.models import Sequential\n",
        "from keras.layers import Dense,Dropout,Flatten,Conv2D,MaxPooling2D"
      ],
      "execution_count": 0,
      "outputs": []
    },
    {
      "metadata": {
        "id": "-jJQ35oA5q24",
        "colab_type": "code",
        "colab": {}
      },
      "cell_type": "code",
      "source": [
        "model = Sequential()"
      ],
      "execution_count": 0,
      "outputs": []
    },
    {
      "metadata": {
        "id": "XnmbIXuP59MO",
        "colab_type": "code",
        "colab": {}
      },
      "cell_type": "code",
      "source": [
        "#@title 建立卷积层1，输入图像大小为28x28，建立16个图像滤镜，每个滤镜大小5x5\n",
        "model.add(Conv2D(filters=16,\n",
        "                 kernel_size=(5,5),\n",
        "                 padding='same',\n",
        "                 input_shape=(28,28,1), \n",
        "                 activation='relu'))"
      ],
      "execution_count": 0,
      "outputs": []
    },
    {
      "metadata": {
        "id": "WCDZHlo86GjM",
        "colab_type": "code",
        "colab": {}
      },
      "cell_type": "code",
      "source": [
        "#@title 建立池化层1，16个28x28图像缩小为16个14x14图像\n",
        "model.add(MaxPooling2D(pool_size=(2, 2)))"
      ],
      "execution_count": 0,
      "outputs": []
    },
    {
      "metadata": {
        "id": "Q4_SXGI16ON0",
        "colab_type": "code",
        "colab": {}
      },
      "cell_type": "code",
      "source": [
        "#@title 建立卷积层2，图像大小仍为14x14，由原来16个滤镜建立36个图像滤镜，每个滤镜大小5x5\n",
        "model.add(Conv2D(filters=36,\n",
        "                 kernel_size=(5,5),\n",
        "                 padding='same',\n",
        "                 activation='relu'))"
      ],
      "execution_count": 0,
      "outputs": []
    },
    {
      "metadata": {
        "id": "RxCGYtoB6TJ2",
        "colab_type": "code",
        "colab": {}
      },
      "cell_type": "code",
      "source": [
        "#@title 建立池化层1，36个14x14图像缩小为36个7x7图像\n",
        "model.add(MaxPooling2D(pool_size=(2, 2)))"
      ],
      "execution_count": 0,
      "outputs": []
    },
    {
      "metadata": {
        "id": "JOYTZA1A6U77",
        "colab_type": "code",
        "colab": {}
      },
      "cell_type": "code",
      "source": [
        "model.add(Dropout(0.25))"
      ],
      "execution_count": 0,
      "outputs": []
    },
    {
      "metadata": {
        "id": "9aRJ5zbA6ZeB",
        "colab_type": "code",
        "colab": {}
      },
      "cell_type": "code",
      "source": [
        "#@title 建立平坦层，36个7x7的图像转化为一维向量，长度是36x7x7=1764 个Float数，正好对应1764个神经元。\n",
        "model.add(Flatten())"
      ],
      "execution_count": 0,
      "outputs": []
    },
    {
      "metadata": {
        "id": "zUagtcLo6a7T",
        "colab_type": "code",
        "colab": {}
      },
      "cell_type": "code",
      "source": [
        "#@title 建立隐藏层，128个神经元\n",
        "model.add(Dense(128, activation='relu'))"
      ],
      "execution_count": 0,
      "outputs": []
    },
    {
      "metadata": {
        "id": "gjVC1B6q6c7F",
        "colab_type": "code",
        "colab": {}
      },
      "cell_type": "code",
      "source": [
        "model.add(Dropout(0.5))"
      ],
      "execution_count": 0,
      "outputs": []
    },
    {
      "metadata": {
        "id": "biSv129D6gSy",
        "colab_type": "code",
        "colab": {}
      },
      "cell_type": "code",
      "source": [
        "#@title 建立输出层，共10个神经元，对应0-9共10个数字，使用softmax激活函数进行转化，softmax可以将神经元的输出转换为预测每个数字的概率\n",
        "model.add(Dense(10,activation='softmax'))"
      ],
      "execution_count": 0,
      "outputs": []
    },
    {
      "metadata": {
        "id": "gufgmC9k6h_g",
        "colab_type": "code",
        "colab": {
          "base_uri": "https://localhost:8080/",
          "height": 459
        },
        "outputId": "4d16c60f-7393-4d48-d528-7a50b9abbcb9"
      },
      "cell_type": "code",
      "source": [
        "print(model.summary())"
      ],
      "execution_count": 20,
      "outputs": [
        {
          "output_type": "stream",
          "text": [
            "_________________________________________________________________\n",
            "Layer (type)                 Output Shape              Param #   \n",
            "=================================================================\n",
            "conv2d_1 (Conv2D)            (None, 28, 28, 16)        416       \n",
            "_________________________________________________________________\n",
            "max_pooling2d_1 (MaxPooling2 (None, 14, 14, 16)        0         \n",
            "_________________________________________________________________\n",
            "conv2d_2 (Conv2D)            (None, 14, 14, 36)        14436     \n",
            "_________________________________________________________________\n",
            "max_pooling2d_2 (MaxPooling2 (None, 7, 7, 36)          0         \n",
            "_________________________________________________________________\n",
            "dropout_1 (Dropout)          (None, 7, 7, 36)          0         \n",
            "_________________________________________________________________\n",
            "flatten_1 (Flatten)          (None, 1764)              0         \n",
            "_________________________________________________________________\n",
            "dense_1 (Dense)              (None, 128)               225920    \n",
            "_________________________________________________________________\n",
            "dropout_2 (Dropout)          (None, 128)               0         \n",
            "_________________________________________________________________\n",
            "dense_2 (Dense)              (None, 10)                1290      \n",
            "=================================================================\n",
            "Total params: 242,062\n",
            "Trainable params: 242,062\n",
            "Non-trainable params: 0\n",
            "_________________________________________________________________\n",
            "None\n"
          ],
          "name": "stdout"
        }
      ]
    },
    {
      "metadata": {
        "id": "S58zNXwo6jFp",
        "colab_type": "code",
        "colab": {}
      },
      "cell_type": "code",
      "source": [
        ""
      ],
      "execution_count": 0,
      "outputs": []
    },
    {
      "metadata": {
        "id": "wjP45fK_HcgE",
        "colab_type": "text"
      },
      "cell_type": "markdown",
      "source": [
        "# 3.训练模型"
      ]
    },
    {
      "metadata": {
        "id": "2QYPDBIRHgws",
        "colab_type": "code",
        "colab": {}
      },
      "cell_type": "code",
      "source": [
        "model.compile(loss='categorical_crossentropy',\n",
        "              optimizer='adam',metrics=['accuracy']) "
      ],
      "execution_count": 0,
      "outputs": []
    },
    {
      "metadata": {
        "id": "nEy0LNlTOsUR",
        "colab_type": "code",
        "colab": {
          "base_uri": "https://localhost:8080/",
          "height": 714
        },
        "outputId": "adce8ba2-0a5b-48e0-a350-c88ed65eb01d"
      },
      "cell_type": "code",
      "source": [
        "train_history=model.fit(x=x_Train4D_normalize, \n",
        "                        y=y_TrainOneHot,validation_split=0.2, \n",
        "                        epochs=20, batch_size=300,verbose=2)"
      ],
      "execution_count": 25,
      "outputs": [
        {
          "output_type": "stream",
          "text": [
            "Train on 48000 samples, validate on 12000 samples\n",
            "Epoch 1/20\n",
            " - 66s - loss: 0.1421 - acc: 0.9586 - val_loss: 0.0694 - val_acc: 0.9794\n",
            "Epoch 2/20\n",
            " - 67s - loss: 0.1057 - acc: 0.9683 - val_loss: 0.0528 - val_acc: 0.9843\n",
            "Epoch 3/20\n",
            " - 67s - loss: 0.0845 - acc: 0.9749 - val_loss: 0.0488 - val_acc: 0.9855\n",
            "Epoch 4/20\n",
            " - 67s - loss: 0.0733 - acc: 0.9778 - val_loss: 0.0408 - val_acc: 0.9880\n",
            "Epoch 5/20\n",
            " - 67s - loss: 0.0653 - acc: 0.9807 - val_loss: 0.0382 - val_acc: 0.9888\n",
            "Epoch 6/20\n",
            " - 67s - loss: 0.0562 - acc: 0.9826 - val_loss: 0.0379 - val_acc: 0.9890\n",
            "Epoch 7/20\n",
            " - 67s - loss: 0.0536 - acc: 0.9836 - val_loss: 0.0355 - val_acc: 0.9896\n",
            "Epoch 8/20\n",
            " - 67s - loss: 0.0462 - acc: 0.9864 - val_loss: 0.0361 - val_acc: 0.9893\n",
            "Epoch 9/20\n",
            " - 67s - loss: 0.0424 - acc: 0.9870 - val_loss: 0.0356 - val_acc: 0.9901\n",
            "Epoch 10/20\n",
            " - 67s - loss: 0.0410 - acc: 0.9878 - val_loss: 0.0316 - val_acc: 0.9910\n",
            "Epoch 11/20\n",
            " - 67s - loss: 0.0370 - acc: 0.9884 - val_loss: 0.0317 - val_acc: 0.9913\n",
            "Epoch 12/20\n",
            " - 67s - loss: 0.0356 - acc: 0.9890 - val_loss: 0.0289 - val_acc: 0.9914\n",
            "Epoch 13/20\n",
            " - 67s - loss: 0.0337 - acc: 0.9895 - val_loss: 0.0294 - val_acc: 0.9919\n",
            "Epoch 14/20\n",
            " - 67s - loss: 0.0301 - acc: 0.9904 - val_loss: 0.0292 - val_acc: 0.9911\n",
            "Epoch 15/20\n",
            " - 67s - loss: 0.0293 - acc: 0.9904 - val_loss: 0.0295 - val_acc: 0.9924\n",
            "Epoch 16/20\n",
            " - 67s - loss: 0.0282 - acc: 0.9906 - val_loss: 0.0298 - val_acc: 0.9920\n",
            "Epoch 17/20\n",
            " - 67s - loss: 0.0256 - acc: 0.9917 - val_loss: 0.0289 - val_acc: 0.9922\n",
            "Epoch 18/20\n",
            " - 67s - loss: 0.0258 - acc: 0.9918 - val_loss: 0.0394 - val_acc: 0.9902\n",
            "Epoch 19/20\n",
            " - 66s - loss: 0.0250 - acc: 0.9920 - val_loss: 0.0274 - val_acc: 0.9929\n",
            "Epoch 20/20\n",
            " - 67s - loss: 0.0245 - acc: 0.9924 - val_loss: 0.0265 - val_acc: 0.9926\n"
          ],
          "name": "stdout"
        }
      ]
    },
    {
      "metadata": {
        "id": "U65bCHp9Ot7J",
        "colab_type": "code",
        "colab": {}
      },
      "cell_type": "code",
      "source": [
        "import matplotlib.pyplot as plt\n",
        "def show_train_history(train_acc,test_acc):\n",
        "    plt.plot(train_history.history[train_acc])\n",
        "    plt.plot(train_history.history[test_acc])\n",
        "    plt.title('Train History')\n",
        "    plt.ylabel('Accuracy')\n",
        "    plt.xlabel('Epoch')\n",
        "    plt.legend(['train', 'test'], loc='upper left')\n",
        "    plt.show()"
      ],
      "execution_count": 0,
      "outputs": []
    },
    {
      "metadata": {
        "id": "1XhA3hr2O1fx",
        "colab_type": "code",
        "colab": {
          "base_uri": "https://localhost:8080/",
          "height": 376
        },
        "outputId": "d9d43608-86ce-4d73-9d13-2634357cd137"
      },
      "cell_type": "code",
      "source": [
        "show_train_history('acc','val_acc')"
      ],
      "execution_count": 27,
      "outputs": [
        {
          "output_type": "display_data",
          "data": {
            "image/png": "[encoded data removed]",
            "text/plain": [
              "<matplotlib.figure.Figure at 0x7f49b1ad2ba8>"
            ]
          },
          "metadata": {
            "tags": []
          }
        }
      ]
    },
    {
      "metadata": {
        "id": "zp-Dv1TNUOVY",
        "colab_type": "code",
        "colab": {
          "base_uri": "https://localhost:8080/",
          "height": 376
        },
        "outputId": "d5b9e69b-a3ae-4f7a-c242-0b40e589725c"
      },
      "cell_type": "code",
      "source": [
        "show_train_history('loss','val_loss')"
      ],
      "execution_count": 28,
      "outputs": [
        {
          "output_type": "display_data",
          "data": {
            "image/png": "[encoded data removed]",
            "text/plain": [
              "<matplotlib.figure.Figure at 0x7f49b1a515c0>"
            ]
          },
          "metadata": {
            "tags": []
          }
        }
      ]
    },
    {
      "metadata": {
        "id": "hQB4eB0nUXYK",
        "colab_type": "text"
      },
      "cell_type": "markdown",
      "source": [
        "# 4.评估模型准确率"
      ]
    },
    {
      "metadata": {
        "id": "8oBhYWWXUS17",
        "colab_type": "code",
        "colab": {
          "base_uri": "https://localhost:8080/",
          "height": 51
        },
        "outputId": "e2aba839-237c-45ab-dd3d-10b651c70ecb"
      },
      "cell_type": "code",
      "source": [
        "scores = model.evaluate(x_Test4D_normalize , y_TestOneHot)\n",
        "scores[1]"
      ],
      "execution_count": 30,
      "outputs": [
        {
          "output_type": "stream",
          "text": [
            "10000/10000 [==============================] - 5s 516us/step\n"
          ],
          "name": "stdout"
        },
        {
          "output_type": "execute_result",
          "data": {
            "text/plain": [
              "0.9925"
            ]
          },
          "metadata": {
            "tags": []
          },
          "execution_count": 30
        }
      ]
    },
    {
      "metadata": {
        "id": "nhW24HexUrBk",
        "colab_type": "text"
      },
      "cell_type": "markdown",
      "source": [
        "# 5.进行预测"
      ]
    },
    {
      "metadata": {
        "id": "5b8ZnrLIUpNg",
        "colab_type": "code",
        "colab": {}
      },
      "cell_type": "code",
      "source": [
        "prediction=model.predict_classes(x_Test4D_normalize)"
      ],
      "execution_count": 0,
      "outputs": []
    },
    {
      "metadata": {
        "id": "fukaBa5WUnnp",
        "colab_type": "code",
        "colab": {
          "base_uri": "https://localhost:8080/",
          "height": 34
        },
        "outputId": "36517c26-2251-496e-b506-1e9041b30680"
      },
      "cell_type": "code",
      "source": [
        "prediction[:10]"
      ],
      "execution_count": 33,
      "outputs": [
        {
          "output_type": "execute_result",
          "data": {
            "text/plain": [
              "array([7, 2, 1, 0, 4, 1, 4, 9, 5, 9])"
            ]
          },
          "metadata": {
            "tags": []
          },
          "execution_count": 33
        }
      ]
    },
    {
      "metadata": {
        "id": "GDG1Bh3sUkBI",
        "colab_type": "code",
        "colab": {}
      },
      "cell_type": "code",
      "source": [
        ""
      ],
      "execution_count": 0,
      "outputs": []
    },
    {
      "metadata": {
        "id": "SAUKuayGU9Ng",
        "colab_type": "text"
      },
      "cell_type": "markdown",
      "source": [
        "# 6.查看预测结果"
      ]
    },
    {
      "metadata": {
        "id": "y7vqNwzlVCYv",
        "colab_type": "code",
        "colab": {}
      },
      "cell_type": "code",
      "source": [
        "import matplotlib.pyplot as plt\n",
        "def plot_images_labels_prediction(images,labels,prediction,idx,num=10):\n",
        "    fig = plt.gcf()\n",
        "    fig.set_size_inches(12, 14)\n",
        "    if num>25: num=25 \n",
        "    for i in range(0, num):\n",
        "        ax=plt.subplot(5,5, 1+i)\n",
        "        ax.imshow(images[idx], cmap='binary')\n",
        "\n",
        "        ax.set_title(\"label=\" +str(labels[idx])+\n",
        "                     \",predict=\"+str(prediction[idx])\n",
        "                     ,fontsize=10) \n",
        "        \n",
        "        ax.set_xticks([]);ax.set_yticks([])        \n",
        "        idx+=1 \n",
        "    plt.show()"
      ],
      "execution_count": 0,
      "outputs": []
    },
    {
      "metadata": {
        "id": "shSEVPZ-VDhX",
        "colab_type": "code",
        "colab": {
          "base_uri": "https://localhost:8080/",
          "height": 318
        },
        "outputId": "66ff7e31-6f9f-46ad-f0f0-0a8c62b8ecc3"
      },
      "cell_type": "code",
      "source": [
        "plot_images_labels_prediction(x_Test,y_Test,prediction,idx=0)"
      ],
      "execution_count": 36,
      "outputs": [
        {
          "output_type": "display_data",
          "data": {
            "image/png": "[encoded data removed]",
            "text/plain": [
              "<matplotlib.figure.Figure at 0x7f49af9809e8>"
            ]
          },
          "metadata": {
            "tags": []
          }
        }
      ]
    },
    {
      "metadata": {
        "id": "v1ktZ9lgVKUa",
        "colab_type": "text"
      },
      "cell_type": "markdown",
      "source": [
        "## 混淆矩阵"
      ]
    },
    {
      "metadata": {
        "id": "14zH47OuVFib",
        "colab_type": "code",
        "colab": {
          "base_uri": "https://localhost:8080/",
          "height": 390
        },
        "outputId": "6263a357-90de-40b7-c77b-9c25e261a61d"
      },
      "cell_type": "code",
      "source": [
        "import pandas as pd\n",
        "pd.crosstab(y_Test,prediction,\n",
        "            rownames=['label'],colnames=['predict'])"
      ],
      "execution_count": 37,
      "outputs": [
        {
          "output_type": "execute_result",
          "data": {
            "text/html": [
              "<div>\n",
              "<style scoped>\n",
              "    .dataframe tbody tr th:only-of-type {\n",
              "        vertical-align: middle;\n",
              "    }\n",
              "\n",
              "    .dataframe tbody tr th {\n",
              "        vertical-align: top;\n",
              "    }\n",
              "\n",
              "    .dataframe thead th {\n",
              "        text-align: right;\n",
              "    }\n",
              "</style>\n",
              "<table border=\"1\" class=\"dataframe\">\n",
              "  <thead>\n",
              "    <tr style=\"text-align: right;\">\n",
              "      <th>predict</th>\n",
              "      <th>0</th>\n",
              "      <th>1</th>\n",
              "      <th>2</th>\n",
              "      <th>3</th>\n",
              "      <th>4</th>\n",
              "      <th>5</th>\n",
              "      <th>6</th>\n",
              "      <th>7</th>\n",
              "      <th>8</th>\n",
              "      <th>9</th>\n",
              "    </tr>\n",
              "    <tr>\n",
              "      <th>label</th>\n",
              "      <th></th>\n",
              "      <th></th>\n",
              "      <th></th>\n",
              "      <th></th>\n",
              "      <th></th>\n",
              "      <th></th>\n",
              "      <th></th>\n",
              "      <th></th>\n",
              "      <th></th>\n",
              "      <th></th>\n",
              "    </tr>\n",
              "  </thead>\n",
              "  <tbody>\n",
              "    <tr>\n",
              "      <th>0</th>\n",
              "      <td>975</td>\n",
              "      <td>1</td>\n",
              "      <td>0</td>\n",
              "      <td>0</td>\n",
              "      <td>0</td>\n",
              "      <td>0</td>\n",
              "      <td>1</td>\n",
              "      <td>0</td>\n",
              "      <td>2</td>\n",
              "      <td>1</td>\n",
              "    </tr>\n",
              "    <tr>\n",
              "      <th>1</th>\n",
              "      <td>0</td>\n",
              "      <td>1129</td>\n",
              "      <td>1</td>\n",
              "      <td>1</td>\n",
              "      <td>0</td>\n",
              "      <td>1</td>\n",
              "      <td>0</td>\n",
              "      <td>1</td>\n",
              "      <td>2</td>\n",
              "      <td>0</td>\n",
              "    </tr>\n",
              "    <tr>\n",
              "      <th>2</th>\n",
              "      <td>1</td>\n",
              "      <td>0</td>\n",
              "      <td>1028</td>\n",
              "      <td>0</td>\n",
              "      <td>0</td>\n",
              "      <td>0</td>\n",
              "      <td>0</td>\n",
              "      <td>2</td>\n",
              "      <td>1</td>\n",
              "      <td>0</td>\n",
              "    </tr>\n",
              "    <tr>\n",
              "      <th>3</th>\n",
              "      <td>0</td>\n",
              "      <td>0</td>\n",
              "      <td>0</td>\n",
              "      <td>1005</td>\n",
              "      <td>0</td>\n",
              "      <td>4</td>\n",
              "      <td>0</td>\n",
              "      <td>0</td>\n",
              "      <td>1</td>\n",
              "      <td>0</td>\n",
              "    </tr>\n",
              "    <tr>\n",
              "      <th>4</th>\n",
              "      <td>0</td>\n",
              "      <td>0</td>\n",
              "      <td>0</td>\n",
              "      <td>0</td>\n",
              "      <td>970</td>\n",
              "      <td>0</td>\n",
              "      <td>1</td>\n",
              "      <td>1</td>\n",
              "      <td>1</td>\n",
              "      <td>9</td>\n",
              "    </tr>\n",
              "    <tr>\n",
              "      <th>5</th>\n",
              "      <td>0</td>\n",
              "      <td>0</td>\n",
              "      <td>0</td>\n",
              "      <td>3</td>\n",
              "      <td>0</td>\n",
              "      <td>886</td>\n",
              "      <td>1</td>\n",
              "      <td>0</td>\n",
              "      <td>1</td>\n",
              "      <td>1</td>\n",
              "    </tr>\n",
              "    <tr>\n",
              "      <th>6</th>\n",
              "      <td>4</td>\n",
              "      <td>2</td>\n",
              "      <td>0</td>\n",
              "      <td>1</td>\n",
              "      <td>2</td>\n",
              "      <td>3</td>\n",
              "      <td>944</td>\n",
              "      <td>0</td>\n",
              "      <td>2</td>\n",
              "      <td>0</td>\n",
              "    </tr>\n",
              "    <tr>\n",
              "      <th>7</th>\n",
              "      <td>0</td>\n",
              "      <td>1</td>\n",
              "      <td>4</td>\n",
              "      <td>2</td>\n",
              "      <td>0</td>\n",
              "      <td>0</td>\n",
              "      <td>0</td>\n",
              "      <td>1016</td>\n",
              "      <td>1</td>\n",
              "      <td>4</td>\n",
              "    </tr>\n",
              "    <tr>\n",
              "      <th>8</th>\n",
              "      <td>1</td>\n",
              "      <td>0</td>\n",
              "      <td>2</td>\n",
              "      <td>0</td>\n",
              "      <td>0</td>\n",
              "      <td>1</td>\n",
              "      <td>0</td>\n",
              "      <td>0</td>\n",
              "      <td>967</td>\n",
              "      <td>3</td>\n",
              "    </tr>\n",
              "    <tr>\n",
              "      <th>9</th>\n",
              "      <td>0</td>\n",
              "      <td>0</td>\n",
              "      <td>0</td>\n",
              "      <td>0</td>\n",
              "      <td>2</td>\n",
              "      <td>2</td>\n",
              "      <td>0</td>\n",
              "      <td>0</td>\n",
              "      <td>0</td>\n",
              "      <td>1005</td>\n",
              "    </tr>\n",
              "  </tbody>\n",
              "</table>\n",
              "</div>"
            ],
            "text/plain": [
              "predict    0     1     2     3    4    5    6     7    8     9\n",
              "label                                                         \n",
              "0        975     1     0     0    0    0    1     0    2     1\n",
              "1          0  1129     1     1    0    1    0     1    2     0\n",
              "2          1     0  1028     0    0    0    0     2    1     0\n",
              "3          0     0     0  1005    0    4    0     0    1     0\n",
              "4          0     0     0     0  970    0    1     1    1     9\n",
              "5          0     0     0     3    0  886    1     0    1     1\n",
              "6          4     2     0     1    2    3  944     0    2     0\n",
              "7          0     1     4     2    0    0    0  1016    1     4\n",
              "8          1     0     2     0    0    1    0     0  967     3\n",
              "9          0     0     0     0    2    2    0     0    0  1005"
            ]
          },
          "metadata": {
            "tags": []
          },
          "execution_count": 37
        }
      ]
    },
    {
      "metadata": {
        "id": "9P7wen7eVPQ5",
        "colab_type": "code",
        "colab": {}
      },
      "cell_type": "code",
      "source": [
        "df = pd.DataFrame({'label':y_Test, 'predict':prediction})"
      ],
      "execution_count": 0,
      "outputs": []
    },
    {
      "metadata": {
        "id": "ugb5DQE5VSPG",
        "colab_type": "code",
        "colab": {
          "base_uri": "https://localhost:8080/",
          "height": 142
        },
        "outputId": "19deb349-26d8-4e0b-ce9e-10c63d3d025f"
      },
      "cell_type": "code",
      "source": [
        "df[(df.label==5)&(df.predict==3)]"
      ],
      "execution_count": 39,
      "outputs": [
        {
          "output_type": "execute_result",
          "data": {
            "text/html": [
              "<div>\n",
              "<style scoped>\n",
              "    .dataframe tbody tr th:only-of-type {\n",
              "        vertical-align: middle;\n",
              "    }\n",
              "\n",
              "    .dataframe tbody tr th {\n",
              "        vertical-align: top;\n",
              "    }\n",
              "\n",
              "    .dataframe thead th {\n",
              "        text-align: right;\n",
              "    }\n",
              "</style>\n",
              "<table border=\"1\" class=\"dataframe\">\n",
              "  <thead>\n",
              "    <tr style=\"text-align: right;\">\n",
              "      <th></th>\n",
              "      <th>label</th>\n",
              "      <th>predict</th>\n",
              "    </tr>\n",
              "  </thead>\n",
              "  <tbody>\n",
              "    <tr>\n",
              "      <th>1393</th>\n",
              "      <td>5</td>\n",
              "      <td>3</td>\n",
              "    </tr>\n",
              "    <tr>\n",
              "      <th>2035</th>\n",
              "      <td>5</td>\n",
              "      <td>3</td>\n",
              "    </tr>\n",
              "    <tr>\n",
              "      <th>2597</th>\n",
              "      <td>5</td>\n",
              "      <td>3</td>\n",
              "    </tr>\n",
              "  </tbody>\n",
              "</table>\n",
              "</div>"
            ],
            "text/plain": [
              "      label  predict\n",
              "1393      5        3\n",
              "2035      5        3\n",
              "2597      5        3"
            ]
          },
          "metadata": {
            "tags": []
          },
          "execution_count": 39
        }
      ]
    },
    {
      "metadata": {
        "id": "4rteyXu7VUnk",
        "colab_type": "code",
        "colab": {}
      },
      "cell_type": "code",
      "source": [
        ""
      ],
      "execution_count": 0,
      "outputs": []
    }
  ]
}